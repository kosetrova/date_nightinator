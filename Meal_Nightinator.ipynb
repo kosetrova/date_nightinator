{
 "cells": [
  {
   "cell_type": "code",
   "execution_count": 80,
   "id": "0468f9c7-0114-4b61-b4cb-ab0033be2d3d",
   "metadata": {},
   "outputs": [
    {
     "name": "stdout",
     "output_type": "stream",
     "text": [
      "Collecting PillowNote: you may need to restart the kernel to use updated packages.\n",
      "\n",
      "  Using cached Pillow-10.1.0-cp312-cp312-win_amd64.whl.metadata (9.6 kB)\n",
      "Using cached Pillow-10.1.0-cp312-cp312-win_amd64.whl (2.6 MB)\n",
      "Installing collected packages: Pillow\n",
      "Successfully installed Pillow-10.1.0\n"
     ]
    }
   ],
   "source": [
    "pip install Pillow"
   ]
  },
  {
   "cell_type": "code",
   "execution_count": 183,
   "id": "db50dc2f-a250-4384-9ff2-6e3b3a5e555b",
   "metadata": {},
   "outputs": [],
   "source": [
    "import spotipy\n",
    "import json\n",
    "import webbrowser\n",
    "import pandas\n",
    "import urllib.request\n",
    "from PIL import Image\n",
    "import spotipy.util as util"
   ]
  },
  {
   "cell_type": "code",
   "execution_count": 230,
   "id": "73e5ae5c-07a2-4355-81da-2f07216f9d25",
   "metadata": {},
   "outputs": [],
   "source": [
    "user_input = [[\"Dynamic\", \"Spicy\"],  [ 'Chicken', 'Beef'], [\"Greek\"]]"
   ]
  },
  {
   "cell_type": "code",
   "execution_count": 231,
   "id": "fabb9f1f-8056-4eaf-ba21-adf3d295e457",
   "metadata": {},
   "outputs": [
    {
     "name": "stdout",
     "output_type": "stream",
     "text": [
      "['Greek'] ['Chicken', 'Beef']\n"
     ]
    }
   ],
   "source": [
    "date_vibe = user_input[0]\n",
    "dietary_req = user_input[1]\n",
    "pref_cuisines = user_input[2]\n",
    "print(pref_cuisines, dietary_req)"
   ]
  },
  {
   "cell_type": "code",
   "execution_count": 232,
   "id": "20d1dad3-c363-41c4-9dde-d3ee8a29a253",
   "metadata": {},
   "outputs": [
    {
     "name": "stdout",
     "output_type": "stream",
     "text": [
      "[['Chicken Quinoa Greek Salad', '53011']]\n"
     ]
    }
   ],
   "source": [
    "cuisine_suggestions = []\n",
    "meal_names = []\n",
    "meal_ids = []\n",
    "\n",
    "for x in pref_cuisines:\n",
    "    query_str = f\"https://www.themealdb.com/api/json/v1/1/filter.php?a={x}\"\n",
    "    request = urllib.request.Request(query_str)\n",
    "    response = urllib.request.urlopen(request)\n",
    "    all_cuisines = json.loads(response.read())\n",
    "    cuisine = all_cuisines['meals']\n",
    "    meal_name = cuisine[0]['strMeal']\n",
    "    meal_id = cuisine[0]['idMeal']\n",
    "\n",
    "    meal_names.append(meal_name)\n",
    "    meal_ids.append(meal_id)\n",
    "    cuisine_suggestions.append([meal_name, meal_id])\n",
    "\n",
    "print(cuisine_suggestions)"
   ]
  },
  {
   "cell_type": "code",
   "execution_count": 233,
   "id": "47552fd4-7984-4f13-b63a-92b7a2b286ef",
   "metadata": {},
   "outputs": [],
   "source": [
    "cuisine_suggestions = []\n",
    "meal_names = []\n",
    "meal_ids = []\n",
    "\n",
    "valid_recipes = []\n",
    "for x in pref_cuisines:\n",
    "    query_str = f\"https://www.themealdb.com/api/json/v1/1/filter.php?a={x}\"\n",
    "    request = urllib.request.Request(query_str)\n",
    "    response = urllib.request.urlopen(request)\n",
    "    all_cuisines = json.loads(response.read())\n",
    "    cuisine = all_cuisines['meals']\n",
    "    meal_name = cuisine[0]['strMeal']\n",
    "    meal_id = cuisine[0]['idMeal']\n",
    "    \n",
    "    for a in cuisine:\n",
    "        m = a['idMeal']\n",
    "        query_str = f\"https://www.themealdb.com/api/json/v1/1/lookup.php?i={m}\"\n",
    "        request = urllib.request.Request(query_str)\n",
    "        response = urllib.request.urlopen(request)\n",
    "        all_ingred = json.loads(response.read())\n",
    "        bla = all_ingred['meals']\n",
    "        \n",
    "        for k in bla:\n",
    "            for o in dietary_req:\n",
    "                index = dietary_req.index(o)\n",
    "                if k['strCategory'] == dietary_req[index]:\n",
    "                    meal = k['strMeal']\n",
    "                    cat = k['strCategory']\n",
    "                    area = k['strArea']\n",
    "                    instruct = k['strInstructions']\n",
    "                    image = k['strMealThumb']\n",
    "                    ls = [meal, cat, area, instruct, image]\n",
    "                    valid_recipes.append(ls)\n",
    "if len(valid_recipes) == 0:\n",
    "    print(\"No recipes found :( Please try again!\")\n",
    "else: \n",
    "    your_meal = random.choice(valid_recipes)"
   ]
  },
  {
   "cell_type": "code",
   "execution_count": 234,
   "id": "e02db8f4-2a55-4af1-8fe3-5d5374708418",
   "metadata": {},
   "outputs": [
    {
     "name": "stdout",
     "output_type": "stream",
     "text": [
      "['Chicken Quinoa Greek Salad', 'Chicken', 'Greek', 'Cook the quinoa following the pack instructions, then rinse in cold water and drain thoroughly.\\r\\n\\r\\nMeanwhile, mix the butter, chilli and garlic into a paste. Toss the chicken fillets in 2 tsp of the olive oil with some seasoning. Lay in a hot griddle pan and cook for 3-4 mins each side or until cooked through. Transfer to a plate, dot with the spicy butter and set aside to melt.\\r\\n\\r\\nNext, tip the tomatoes, olives, onion, feta and mint into a bowl. Toss in the cooked quinoa. Stir through the remaining olive oil, lemon juice and zest, and season well. Serve with the chicken fillets on top, drizzled with any buttery chicken juices.', 'https://www.themealdb.com/images/media/meals/k29viq1585565980.jpg']\n"
     ]
    }
   ],
   "source": [
    "print(your_meal)"
   ]
  },
  {
   "cell_type": "code",
   "execution_count": 235,
   "id": "14551499-09f3-42c8-9037-fa334fde7894",
   "metadata": {},
   "outputs": [],
   "source": [
    "urllib.request.urlretrieve(your_meal[4], f\"{your_meal[0].replace(\" \", \"_\")}.png\")\n",
    "img = Image.open(f\"{your_meal[0].replace(\" \", \"_\")}.png\")\n",
    "img.show()"
   ]
  },
  {
   "cell_type": "code",
   "execution_count": 193,
   "id": "25cb207c-ccef-4248-bd11-40c14595665b",
   "metadata": {},
   "outputs": [],
   "source": [
    "output_reqs = ', ' .join([str(element) for element in dietary_req])"
   ]
  },
  {
   "cell_type": "code",
   "execution_count": 239,
   "id": "0084e798-3006-4600-8861-3934a8596837",
   "metadata": {},
   "outputs": [
    {
     "name": "stdout",
     "output_type": "stream",
     "text": [
      "Hey there! Looks like I found something just for you ( ͡~ ͜ʖ ͡°)\n",
      "\n",
      "Based on your request I recommend trying Moussaka! To prepare this delicious meal follow the instructions below:\n",
      "Heat the grill to high. Brown the beef in a deep ovenproof frying pan over a high heat for 5 mins. Meanwhile, prick the aubergine with a fork, then microwave on High for 3-5 mins until soft. Mix the yogurt, egg and parmesan together, then add a little seasoning.\n",
      "\n",
      "Stir the tomatoes, purée and potatoes in with the beef with some seasoning and heat through. Smooth the surface of the beef mixture with the back of a spoon, then slice the cooked aubergine and arrange on top. Pour the yogurt mixture over the aubergines, smooth out evenly, then grill until the topping has set and turned golden. \n",
      "\n",
      "XoXo\n",
      "Date Nightinator (っ ͠≖ ͜ʖ ͠≖ )っ🎔\n"
     ]
    }
   ],
   "source": [
    "print(f\"Hey there! Looks like I found something just for you ( ͡~ ͜ʖ ͡°)\\n\\nBased on your request I recommend trying {meal}! To prepare this delicious meal follow the instructions below:\\n{instruct} \\n\\nXoXo\\nDate Nightinator (っ ͠≖ ͜ʖ ͠≖ )っ🎔\")"
   ]
  },
  {
   "cell_type": "code",
   "execution_count": null,
   "id": "e546ae3b-527a-44c6-b73d-0fd3a45d5b28",
   "metadata": {},
   "outputs": [],
   "source": []
  },
  {
   "cell_type": "code",
   "execution_count": null,
   "id": "65d56a3c-adae-48cd-8723-74f9b7e4c869",
   "metadata": {},
   "outputs": [],
   "source": []
  }
 ],
 "metadata": {
  "kernelspec": {
   "display_name": "Python 3 (ipykernel)",
   "language": "python",
   "name": "python3"
  },
  "language_info": {
   "codemirror_mode": {
    "name": "ipython",
    "version": 3
   },
   "file_extension": ".py",
   "mimetype": "text/x-python",
   "name": "python",
   "nbconvert_exporter": "python",
   "pygments_lexer": "ipython3",
   "version": "3.12.0"
  }
 },
 "nbformat": 4,
 "nbformat_minor": 5
}
