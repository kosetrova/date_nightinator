{
 "cells": [
  {
   "cell_type": "code",
   "execution_count": 855,
   "metadata": {},
   "outputs": [],
   "source": [
    "#Imports\n",
    "import spotipy, json, webbrowser, urllib.request, random\n",
    "import pandas as pd\n",
    "import spotipy.util as util\n",
    "from PIL import Image\n",
    "from qrcode import QRCode\n",
    "from reportlab.pdfgen import canvas\n",
    "from reportlab.lib.pagesizes import A4\n",
    "from reportlab.lib.utils import ImageReader\n",
    "from reportlab.platypus import Paragraph\n",
    "from reportlab.lib.styles import getSampleStyleSheet\n",
    "from reportlab.platypus import SimpleDocTemplate\n",
    "from reportlab.lib.units import mm"
   ]
  },
  {
   "cell_type": "code",
   "execution_count": 856,
   "metadata": {},
   "outputs": [],
   "source": [
    "#User Input Cell 1\n",
    "kseniia_lucky_number = 5\n",
    "omotara_lucky_number = 3\n",
    "\n",
    "# #Manual input, comment the below lines out when ready\n",
    "# user_input = [[\"Dynamic\", \"Spicy\"],  [\"Beef\"], [\"Thai\", \"Indian\", \"Korean\"], [28, 11, 23], \"K-pop\"]\n",
    "# date_vibe = user_input[0]\n",
    "# dietary_req = user_input[1]\n",
    "# pref_cuisines = user_input[2]\n",
    "# date_day = user_input[3][0]\n",
    "# date_month = user_input[3][1]\n",
    "# date_year = user_input[3][2]\n",
    "# date_genre = user_input[4]\n",
    "\n",
    "#Dynamic input, uncomment the below lines later\n",
    "date_vibe = input(\"Tell me about your date... \\n What vibe do you want? \\n Describe it in one word (e.g. Adventure\")\n",
    "dietary_req = input(\"And what are your dietary requirements? \\n (e.g. Vegan, Beef)\\n\").split(\", \")\n",
    "pref_cuisines = input(\"What are your preferred cuisines? \\n (e.g. Italian, Korean)\\n\").split(\", \")\n",
    "true_date = input(\"When is the date? \\n Format it like this dd, mm, yy (e.g. 28, 11, 23)\\n\").split(\", \")\n",
    "date_genre = input(\"And finally, what genre would you like to listen to? Give one option\")\n",
    "date_day = true_date[0]\n",
    "date_month = true_date[1]\n",
    "date_year = true_date[2]\n"
   ]
  },
  {
   "cell_type": "code",
   "execution_count": 857,
   "metadata": {},
   "outputs": [
    {
     "name": "stdout",
     "output_type": "stream",
     "text": [
      "['c', 'h', 'i', 'l', 'l', 'e', 'd']\n"
     ]
    }
   ],
   "source": [
    "#Cocktail Cell 1\n",
    "letters = []\n",
    "for word in date_vibe:\n",
    "    for char in word:\n",
    "        letters.append(char.lower())\n",
    "\n",
    "print(letters)"
   ]
  },
  {
   "cell_type": "code",
   "execution_count": 858,
   "metadata": {},
   "outputs": [
    {
     "name": "stdout",
     "output_type": "stream",
     "text": [
      "[['Casino', 'Pour all ingredients into shaker with ice cubes. Shake well. Strain into chilled cocktail glass. Garnish with a lemon twist and a maraschino cherry. Serve without a straw.', 'gin, maraschino liqueur, lemon juice, orange bitters, cherry', 'https://www.thecocktaildb.com/images/media/drink/1mvjxg1504348579.jpg'], ['H.D.', 'Mix the whisky and Baileys Cream in a beer-glass (at least 50 cl). Fill the rest of the glass with coffee.', 'whisky, baileys irish cream, coffee', 'https://www.thecocktaildb.com/images/media/drink/upusyu1472667977.jpg'], ['Ipamena', 'Cut half a lime into pieces, place in a shaker, add the sugar and crush. Measure the passion fruit juice, add it to the shaker and fill up with ice cubes. Close the shaker and shake vigorously. Pour the liquid into a glass, top up with ginger ale, stir with a teaspoon and then garnish the rim of the glass with a slice of lime', 'lime, brown sugar, passion fruit juice, ginger ale, ice', 'https://www.thecocktaildb.com/images/media/drink/yswuwp1469090992.jpg'], ['Limeade', 'In a large glass, put the lime juice and sugar, and stir well. Add cold seltzer water to fill. Put the lime peels in the glass. Drink. Repeat until limes or soda run out.', 'lime, sugar, soda water, lime peel', 'https://www.thecocktaildb.com/images/media/drink/5jdp5r1487603680.jpg'], ['Limeade', 'In a large glass, put the lime juice and sugar, and stir well. Add cold seltzer water to fill. Put the lime peels in the glass. Drink. Repeat until limes or soda run out.', 'lime, sugar, soda water, lime peel', 'https://www.thecocktaildb.com/images/media/drink/5jdp5r1487603680.jpg'], ['Egg Cream', 'Mix syrup and milk in a fountain glass. Add soda water, serve with a straw.', 'chocolate syrup, milk, soda water', 'https://www.thecocktaildb.com/images/media/drink/mvis731484430445.jpg'], ['Derby', 'Pour all ingredients into a mixing glass with ice. Stir. Strain into a cocktail glass. Garnish with a sprig of fresh mint in the drink.', 'gin, peach bitters, mint', 'https://www.thecocktaildb.com/images/media/drink/52weey1606772672.jpg']]\n"
     ]
    }
   ],
   "source": [
    "#Cocktail Cell 2\n",
    "cocktail_suggestions = []\n",
    "for letter in letters:\n",
    "    number = kseniia_lucky_number\n",
    "    query_str = f\"http://www.thecocktaildb.com/api/json/v1/1/search.php?f={letter}\"\n",
    "    request = urllib.request.Request(query_str)\n",
    "    response = urllib.request.urlopen(request)\n",
    "    all_cocktails = json.loads(response.read())\n",
    "    if all_cocktails['drinks'] != None:\n",
    "        if len(all_cocktails['drinks']) < (number-1):\n",
    "            number = len(all_cocktails['drinks'])\n",
    "        cocktail = all_cocktails['drinks']\n",
    "        if cocktail[0]['strDrink'] not in cocktail_suggestions:\n",
    "            cocktail_name = cocktail[0]['strDrink']\n",
    "            cocktail_instructions = cocktail[0]['strInstructions']\n",
    "            cocktail_ingred = cocktail[0]['strIngredient1'].lower()\n",
    "            cocktail_img = cocktail[0]['strDrinkThumb']\n",
    "            num = 2\n",
    "            while cocktail[0][f'strIngredient{num}'] != None:\n",
    "                cocktail_ingred = cocktail_ingred + \", \" + cocktail[0][f'strIngredient{num}'].lower()\n",
    "                num += 1\n",
    "            cocktail_suggestions.append([cocktail_name, cocktail_instructions, cocktail_ingred, cocktail_img])\n",
    "print(cocktail_suggestions)"
   ]
  },
  {
   "cell_type": "code",
   "execution_count": 859,
   "metadata": {},
   "outputs": [
    {
     "name": "stdout",
     "output_type": "stream",
     "text": [
      "Your cocktail for the evening is an\u001b[1m Egg Cream\n",
      "\u001b[0m Here's the recipe \n",
      " Ingredients: chocolate syrup, milk, soda water\n",
      " Steps: Mix syrup and milk in a fountain glass. Add soda water, serve with a straw.\n"
     ]
    }
   ],
   "source": [
    "#Cocktail Cell 3\n",
    "number = omotara_lucky_number\n",
    "random.shuffle(cocktail_suggestions)\n",
    "if len(cocktail_suggestions) < number:\n",
    "    number = len(cocktail_suggestions)\n",
    "your_cocktail = cocktail_suggestions[number][0]\n",
    "your_recipe = cocktail_suggestions[number][1]\n",
    "your_ingredients = cocktail_suggestions[number][2]\n",
    "your_cocktail_img = cocktail_suggestions[number][3]\n",
    "\n",
    "a_or_an = \"a\"\n",
    "vowels = [\"a\", \"e\", \"i\", \"o\", \"u\"]\n",
    "if your_cocktail[0].lower() in vowels:\n",
    "    a_or_an = \"an\"\n",
    "    \n",
    "print(f\"Your cocktail for the evening is {a_or_an}\\033[1m {your_cocktail}\\n\\033[0m Here's the recipe \\n Ingredients: {your_ingredients}\\n Steps: {your_recipe}\")"
   ]
  },
  {
   "cell_type": "code",
   "execution_count": 860,
   "metadata": {},
   "outputs": [
    {
     "name": "stdout",
     "output_type": "stream",
     "text": [
      "Ginger <class 'str'>\n",
      "chicken thigh, ginger\n",
      "Garlic <class 'str'>\n",
      "chicken thigh, ginger, garlic\n",
      "Soy sauce <class 'str'>\n",
      "chicken thigh, ginger, garlic, soy sauce\n",
      "Sake <class 'str'>\n",
      "chicken thigh, ginger, garlic, soy sauce, sake\n",
      "Granulated sugar <class 'str'>\n",
      "chicken thigh, ginger, garlic, soy sauce, sake, granulated sugar\n",
      "Potato starch <class 'str'>\n",
      "chicken thigh, ginger, garlic, soy sauce, sake, granulated sugar, potato starch\n",
      "Vegetable oil <class 'str'>\n",
      "chicken thigh, ginger, garlic, soy sauce, sake, granulated sugar, potato starch, vegetable oil\n",
      "Lemon <class 'str'>\n",
      "chicken thigh, ginger, garlic, soy sauce, sake, granulated sugar, potato starch, vegetable oil, lemon\n",
      "plain flour <class 'str'>\n",
      "chicken breast, plain flour\n",
      "egg <class 'str'>\n",
      "chicken breast, plain flour, egg\n",
      "breadcrumbs <class 'str'>\n",
      "chicken breast, plain flour, egg, breadcrumbs\n",
      "vegetable oil <class 'str'>\n",
      "chicken breast, plain flour, egg, breadcrumbs, vegetable oil\n",
      "sunflower oil <class 'str'>\n",
      "chicken breast, plain flour, egg, breadcrumbs, vegetable oil, sunflower oil\n",
      "onions <class 'str'>\n",
      "chicken breast, plain flour, egg, breadcrumbs, vegetable oil, sunflower oil, onions\n",
      "garlic <class 'str'>\n",
      "chicken breast, plain flour, egg, breadcrumbs, vegetable oil, sunflower oil, onions, garlic\n",
      "carrot <class 'str'>\n",
      "chicken breast, plain flour, egg, breadcrumbs, vegetable oil, sunflower oil, onions, garlic, carrot\n",
      "plain flour <class 'str'>\n",
      "chicken breast, plain flour, egg, breadcrumbs, vegetable oil, sunflower oil, onions, garlic, carrot, plain flour\n",
      "curry powder <class 'str'>\n",
      "chicken breast, plain flour, egg, breadcrumbs, vegetable oil, sunflower oil, onions, garlic, carrot, plain flour, curry powder\n",
      "chicken stock <class 'str'>\n",
      "chicken breast, plain flour, egg, breadcrumbs, vegetable oil, sunflower oil, onions, garlic, carrot, plain flour, curry powder, chicken stock\n",
      "honey <class 'str'>\n",
      "chicken breast, plain flour, egg, breadcrumbs, vegetable oil, sunflower oil, onions, garlic, carrot, plain flour, curry powder, chicken stock, honey\n",
      "soy sauce <class 'str'>\n",
      "chicken breast, plain flour, egg, breadcrumbs, vegetable oil, sunflower oil, onions, garlic, carrot, plain flour, curry powder, chicken stock, honey, soy sauce\n",
      "bay leaf <class 'str'>\n",
      "chicken breast, plain flour, egg, breadcrumbs, vegetable oil, sunflower oil, onions, garlic, carrot, plain flour, curry powder, chicken stock, honey, soy sauce, bay leaf\n",
      "garam masala <class 'str'>\n",
      "chicken breast, plain flour, egg, breadcrumbs, vegetable oil, sunflower oil, onions, garlic, carrot, plain flour, curry powder, chicken stock, honey, soy sauce, bay leaf, garam masala\n",
      "water <class 'str'>\n",
      "soy sauce, water\n",
      "brown sugar <class 'str'>\n",
      "soy sauce, water, brown sugar\n",
      "ground ginger <class 'str'>\n",
      "soy sauce, water, brown sugar, ground ginger\n",
      "minced garlic <class 'str'>\n",
      "soy sauce, water, brown sugar, ground ginger, minced garlic\n",
      "cornstarch <class 'str'>\n",
      "soy sauce, water, brown sugar, ground ginger, minced garlic, cornstarch\n",
      "chicken breasts <class 'str'>\n",
      "soy sauce, water, brown sugar, ground ginger, minced garlic, cornstarch, chicken breasts\n",
      "stir-fry vegetables <class 'str'>\n",
      "soy sauce, water, brown sugar, ground ginger, minced garlic, cornstarch, chicken breasts, stir-fry vegetables\n",
      "brown rice <class 'str'>\n",
      "soy sauce, water, brown sugar, ground ginger, minced garlic, cornstarch, chicken breasts, stir-fry vegetables, brown rice\n",
      "['Teriyaki Chicken Casserole', 'Chicken', 'Japanese', 'Preheat oven to 350° F. Spray a 9x13-inch baking pan with non-stick spray.\\r\\nCombine soy sauce, ½ cup water, brown sugar, ginger and garlic in a small saucepan and cover. Bring to a boil over medium heat. Remove lid and cook for one minute once boiling.\\r\\nMeanwhile, stir together the corn starch and 2 tablespoons of water in a separate dish until smooth. Once sauce is boiling, add mixture to the saucepan and stir to combine. Cook until the sauce starts to thicken then remove from heat.\\r\\nPlace the chicken breasts in the prepared pan. Pour one cup of the sauce over top of chicken. Place chicken in oven and bake 35 minutes or until cooked through. Remove from oven and shred chicken in the dish using two forks.\\r\\n*Meanwhile, steam or cook the vegetables according to package directions.\\r\\nAdd the cooked vegetables and rice to the casserole dish with the chicken. Add most of the remaining sauce, reserving a bit to drizzle over the top when serving. Gently toss everything together in the casserole dish until combined. Return to oven and cook 15 minutes. Remove from oven and let stand 5 minutes before serving. Drizzle each serving with remaining sauce. Enjoy!', 'https://www.themealdb.com/images/media/meals/wvpsxx1468256321.jpg', 'soy sauce, water, brown sugar, ground ginger, minced garlic, cornstarch, chicken breasts, stir-fry vegetables, brown rice']\n",
      "6\n"
     ]
    }
   ],
   "source": [
    "#Meal Cell 1\n",
    "\n",
    "cuisine_suggestions = []\n",
    "valid_recipes = []\n",
    "alphabet = \"abcdefghijklmnopqrstuvwxyz\"\n",
    "\n",
    "for user_cuisine in pref_cuisines:\n",
    "    query_str = f\"https://www.themealdb.com/api/json/v1/1/filter.php?a={user_cuisine}\"\n",
    "    request = urllib.request.Request(query_str)\n",
    "    response = urllib.request.urlopen(request)\n",
    "    all_responses_for_cuisine = json.loads(response.read())\n",
    "    all_meals_for_cuisine = all_responses_for_cuisine['meals']\n",
    "    if all_meals_for_cuisine != None:\n",
    "        for dish in all_meals_for_cuisine:\n",
    "            dish_id = dish['idMeal']\n",
    "            query_str = f\"https://www.themealdb.com/api/json/v1/1/lookup.php?i={dish_id}\"\n",
    "            request = urllib.request.Request(query_str)\n",
    "            response = urllib.request.urlopen(request)\n",
    "            all_dish_responses = json.loads(response.read())\n",
    "            dish_info = all_dish_responses['meals']\n",
    "            \n",
    "            for req in dietary_req:\n",
    "                if dish_info[0]['strCategory'] == req:\n",
    "                    meal = dish_info[0]['strMeal']\n",
    "                    category = dish_info[0]['strCategory']\n",
    "                    area = dish_info[0]['strArea']\n",
    "                    instruct = dish_info[0]['strInstructions']\n",
    "                    image = dish_info[0]['strMealThumb']\n",
    "                    meal_ingred = dish_info[0]['strIngredient1'].lower()\n",
    "                    for num in range(2, 20):\n",
    "                        if dish_info[0][f'strIngredient{num}'] != None and dish_info[0][f'strIngredient{num}'] != \"\":\n",
    "                            meal_ingred = meal_ingred + \", \" + dish_info[0][f'strIngredient{num}'].lower()\n",
    "                            print(dish_info[0][f'strIngredient{num}'], type(dish_info[0][f'strIngredient{num}']))\n",
    "                            print(meal_ingred)\n",
    "                    ls = [meal, category, area, instruct, image, meal_ingred]\n",
    "                    valid_recipes.append(ls)\n",
    "    else:\n",
    "        print(f\"There were no meals for the {user_cuisine} cuisine\")\n",
    "                    \n",
    "if len(valid_recipes) == 0:\n",
    "    print(\"No recipes found for any of your preferred cuisines :( Please try another!\")\n",
    "else: \n",
    "    your_meal = random.choice(valid_recipes)\n",
    "    print(your_meal)\n",
    "    print(len(your_meal))"
   ]
  },
  {
   "cell_type": "code",
   "execution_count": 861,
   "metadata": {},
   "outputs": [
    {
     "name": "stdout",
     "output_type": "stream",
     "text": [
      "['Teriyaki Chicken Casserole', 'Chicken', 'Japanese', 'Preheat oven to 350° F. Spray a 9x13-inch baking pan with non-stick spray.\\r\\nCombine soy sauce, ½ cup water, brown sugar, ginger and garlic in a small saucepan and cover. Bring to a boil over medium heat. Remove lid and cook for one minute once boiling.\\r\\nMeanwhile, stir together the corn starch and 2 tablespoons of water in a separate dish until smooth. Once sauce is boiling, add mixture to the saucepan and stir to combine. Cook until the sauce starts to thicken then remove from heat.\\r\\nPlace the chicken breasts in the prepared pan. Pour one cup of the sauce over top of chicken. Place chicken in oven and bake 35 minutes or until cooked through. Remove from oven and shred chicken in the dish using two forks.\\r\\n*Meanwhile, steam or cook the vegetables according to package directions.\\r\\nAdd the cooked vegetables and rice to the casserole dish with the chicken. Add most of the remaining sauce, reserving a bit to drizzle over the top when serving. Gently toss everything together in the casserole dish until combined. Return to oven and cook 15 minutes. Remove from oven and let stand 5 minutes before serving. Drizzle each serving with remaining sauce. Enjoy!', 'https://www.themealdb.com/images/media/meals/wvpsxx1468256321.jpg', 'soy sauce, water, brown sugar, ground ginger, minced garlic, cornstarch, chicken breasts, stir-fry vegetables, brown rice']\n"
     ]
    }
   ],
   "source": [
    "#Meal Cell 2\n",
    "\n",
    "your_meal_name = your_meal[0]\n",
    "your_meal_recipe = your_meal[3]\n",
    "your_meal_img = your_meal[4]\n",
    "your_meal_ingredients = your_meal[5]\n",
    "\n",
    "a_or_an_meal = \"a\"\n",
    "vowels = [\"a\", \"e\", \"i\", \"o\", \"u\"]\n",
    "if your_meal[0].lower() in vowels:\n",
    "    a_or_an_meal = \"an\"\n",
    "\n",
    "print(your_meal)"
   ]
  },
  {
   "cell_type": "code",
   "execution_count": 862,
   "metadata": {},
   "outputs": [],
   "source": [
    "#Playlist Cell 1\n",
    "\n",
    "credentials = \"spotipy_keys.json\"\n",
    "with open(credentials, \"r\") as keys:\n",
    "    api_tokens = json.load(keys)"
   ]
  },
  {
   "cell_type": "code",
   "execution_count": 863,
   "metadata": {},
   "outputs": [],
   "source": [
    "#Playlist Cell 2\n",
    "\n",
    "client_id = api_tokens[\"client_id\"]\n",
    "client_secret = api_tokens[\"client_secret\"]\n",
    "redirect_uri = api_tokens[\"redirect\"]\n",
    "username = api_tokens[\"username\"]\n",
    "\n",
    "scope = 'user-read-private user-read-playback-state user-modify-playback-state playlist-modify-public'\n",
    "auth = util.prompt_for_user_token(username, scope, client_id, client_secret, redirect_uri)\n",
    "\n",
    "sp = spotipy.Spotify(auth=auth)"
   ]
  },
  {
   "cell_type": "code",
   "execution_count": 864,
   "metadata": {},
   "outputs": [],
   "source": [
    "#Playlist Cell 3\n",
    "\n",
    "track_results = sp.search(q=f'genre:{date_genre}', type='track', limit=10)"
   ]
  },
  {
   "cell_type": "code",
   "execution_count": 865,
   "metadata": {},
   "outputs": [],
   "source": [
    "#Playlist Cell 4\n",
    "\n",
    "tracks = track_results['tracks']['items']\n",
    "track_selection_list = []\n",
    "\n",
    "for song in tracks:\n",
    "    track_selection_list.append(song['uri'])\n",
    "\n",
    "my_playlist = sp.user_playlist_create(user=username, name='Date Night Playlist ♡', public=True, description=f\"Enjoy your {date_vibe.lower()} date!\")\n",
    "results = sp.user_playlist_add_tracks(username, my_playlist['id'], track_selection_list)\n",
    "playlist_link = my_playlist['external_urls']['spotify']\n"
   ]
  },
  {
   "cell_type": "code",
   "execution_count": 866,
   "metadata": {},
   "outputs": [
    {
     "data": {
      "text/plain": [
       "True"
      ]
     },
     "execution_count": 866,
     "metadata": {},
     "output_type": "execute_result"
    }
   ],
   "source": [
    "#Playlist Cell 5\n",
    "\n",
    "webbrowser.open(my_playlist['external_urls']['spotify'])"
   ]
  },
  {
   "cell_type": "code",
   "execution_count": 867,
   "metadata": {},
   "outputs": [
    {
     "name": "stdout",
     "output_type": "stream",
     "text": [
      "['Courier', 'Courier-Bold', 'Courier-BoldOblique', 'Courier-Oblique', 'Helvetica', 'Helvetica-Bold', 'Helvetica-BoldOblique', 'Helvetica-Oblique', 'Symbol', 'Times-Bold', 'Times-BoldItalic', 'Times-Italic', 'Times-Roman', 'ZapfDingbats']\n"
     ]
    }
   ],
   "source": [
    "#PDF\n",
    "\n",
    "top_line_pos = 755\n",
    "line_spacing = 15\n",
    "normal_fontsize = 8\n",
    "h3_fontsize = 9.5\n",
    "h2_fontsize = 13\n",
    "h1_fontsize = 21\n",
    "date_details = date_genre + ' ' + str(date_day) + ' ' + str(date_month) + ' ' + str(date_year)\n",
    "\n",
    "date_canvas = canvas.Canvas(f\"date_results/{date_details.replace(\" \", \"_\")}_date_night.pdf\", pagesize=A4)\n",
    "\n",
    "x_pos_centre_align = date_canvas._pagesize[0] / 2\n",
    "\n",
    "date_canvas.setFont(\"Helvetica-Bold\", h1_fontsize)\n",
    "date_canvas.setFillColorRGB(0, 0, 0)\n",
    "date_canvas.drawCentredString(x_pos_centre_align, top_line_pos, \"MENU\")\n",
    "\n",
    "date_canvas.setFont(\"Helvetica\", normal_fontsize)\n",
    "print(date_canvas.getAvailableFonts())\n",
    "\n",
    "def line_y_position(line_idx):\n",
    "    return top_line_pos-(line_idx*line_spacing)\n",
    "\n",
    "def line_break_str(your_string):\n",
    "    line = \"\"\n",
    "    full_str = []\n",
    "    line_width = 120\n",
    "    x = line_width\n",
    "    if line_width < len(your_string):\n",
    "        first_space = your_string[(line_width-10):(line_width+10)].index(\" \") + line_width - 10\n",
    "        line = your_string[0:first_space]\n",
    "        full_str.append(line)\n",
    "        x = first_space\n",
    "    else:\n",
    "        line = your_string\n",
    "\n",
    "    while x < len(your_string):\n",
    "        y = x+line_width\n",
    "        if y < len(your_string):\n",
    "            index_nearest_space = your_string[(y-10):(y+10)].index(\" \") + y - 10\n",
    "        else:\n",
    "            index_nearest_space = len(your_string)\n",
    "        line = your_string[x:index_nearest_space]\n",
    "        x = index_nearest_space\n",
    "        full_str.append(line)\n",
    "    \n",
    "    return full_str\n",
    "\n",
    "#Cocktail Section\n",
    "cocktail_img_item = ImageReader(your_cocktail_img)\n",
    "position = 3\n",
    "date_canvas.setFont(\"Helvetica\", h2_fontsize)\n",
    "date_canvas.drawString(100, line_y_position(position), f\"Cocktail: {your_cocktail}\")\n",
    "position += 0.5\n",
    "date_canvas.setFont(\"Helvetica\", normal_fontsize)\n",
    "position += 1\n",
    "date_canvas.drawImage(cocktail_img_item, (x_pos_centre_align-50), line_y_position(position + 6.5), mask='auto', width=100, height=100)\n",
    "position += 8\n",
    "date_canvas.setFont(\"Helvetica-Bold\", h3_fontsize)\n",
    "date_canvas.drawString(100, line_y_position(position), f\"Ingredients:\")\n",
    "position += 1\n",
    "date_canvas.setFont(\"Helvetica\", normal_fontsize)\n",
    "date_canvas.drawString(100, line_y_position(position), f\"{your_ingredients}\")\n",
    "position += 1\n",
    "\n",
    "position += 1\n",
    "date_canvas.setFont(\"Helvetica-Bold\", h3_fontsize)\n",
    "date_canvas.drawString(100, line_y_position(position), f\"Steps:\")\n",
    "position += 1\n",
    "date_canvas.setFont(\"Helvetica\", normal_fontsize)\n",
    "date_canvas.drawString(100, line_y_position(position), f\"{your_recipe}\")\n",
    "position += 1\n",
    "\n",
    "#Meal Section\n",
    "meal_img_item = ImageReader(your_meal_img)\n",
    "position += 2\n",
    "date_canvas.setFont(\"Helvetica\", h2_fontsize)\n",
    "date_canvas.drawString(100, line_y_position(position), f\"Meal: {your_meal_name}\")\n",
    "date_canvas.setFont(\"Helvetica\", normal_fontsize)\n",
    "position += 0.5\n",
    "position += 1\n",
    "date_canvas.drawImage(meal_img_item, (x_pos_centre_align-50), line_y_position(position + 6.5), mask='auto', width=100, height=100)\n",
    "position += 8\n",
    "date_canvas.setFont(\"Helvetica-Bold\", h3_fontsize)\n",
    "date_canvas.drawString(100, line_y_position(position), f\"Ingredients:\")\n",
    "position += 1\n",
    "date_canvas.setFont(\"Helvetica\", normal_fontsize)\n",
    "\n",
    "meal_ingredients_broken =  line_break_str(your_meal_ingredients)\n",
    "for line in meal_ingredients_broken:\n",
    "    date_canvas.drawString(100, line_y_position(position), f\"{line}\")\n",
    "    position += 1\n",
    "\n",
    "date_canvas.setFont(\"Helvetica-Bold\", h3_fontsize)\n",
    "position += 1\n",
    "date_canvas.drawString(100, line_y_position(position), f\"Steps:\")\n",
    "position += 1\n",
    "date_canvas.setFont(\"Helvetica\", normal_fontsize)\n",
    "\n",
    "meal_recipe_broken =  line_break_str(your_meal_recipe)\n",
    "for line in meal_recipe_broken:\n",
    "    date_canvas.drawString(100, line_y_position(position), f\"{line.replace(\"\\n\", \"\")}\")\n",
    "    position += 1\n",
    "\n",
    "#QR Section\n",
    "qr = QRCode(version=1, box_size=10, border=5)\n",
    "qr.add_data(playlist_link)\n",
    "qr.make(fit=True)\n",
    "img = qr.make_image(fill_color=\"black\", back_color=\"white\")\n",
    "qr_filename = f\"images/qr_code_{date_details.replace(\" \", \"_\")}.png\"\n",
    "img.save(qr_filename)\n",
    "\n",
    "qr_img_item = ImageReader(f\"{qr_filename}\")\n",
    "\n",
    "date_canvas.drawImage(qr_img_item, (x_pos_centre_align-50), line_y_position(position + 6.5), mask='auto', width=100, height=100)\n",
    "position += 7\n",
    "\n",
    "#Run\n",
    "date_canvas.showPage()\n",
    "date_canvas.save()"
   ]
  }
 ],
 "metadata": {
  "kernelspec": {
   "display_name": ".venv",
   "language": "python",
   "name": "python3"
  },
  "language_info": {
   "codemirror_mode": {
    "name": "ipython",
    "version": 3
   },
   "file_extension": ".py",
   "mimetype": "text/x-python",
   "name": "python",
   "nbconvert_exporter": "python",
   "pygments_lexer": "ipython3",
   "version": "3.12.0"
  }
 },
 "nbformat": 4,
 "nbformat_minor": 2
}
