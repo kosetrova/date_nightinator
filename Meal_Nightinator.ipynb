{
 "cells": [
  {
   "cell_type": "code",
   "execution_count": 359,
   "id": "0468f9c7-0114-4b61-b4cb-ab0033be2d3d",
   "metadata": {},
   "outputs": [
    {
     "name": "stdout",
     "output_type": "stream",
     "text": [
      "Requirement already satisfied: Pillow in c:\\users\\kseniia osetrova\\omotara_kseniia_spotify\\venv\\lib\\site-packages (10.1.0)\n",
      "Note: you may need to restart the kernel to use updated packages.\n"
     ]
    }
   ],
   "source": [
    "pip install Pillow"
   ]
  },
  {
   "cell_type": "code",
   "execution_count": 383,
   "id": "db50dc2f-a250-4384-9ff2-6e3b3a5e555b",
   "metadata": {},
   "outputs": [],
   "source": [
    "import spotipy\n",
    "import json\n",
    "import webbrowser\n",
    "import pandas\n",
    "import urllib.request\n",
    "import random\n",
    "from PIL import Image\n",
    "import spotipy.util as util"
   ]
  },
  {
   "cell_type": "code",
   "execution_count": 450,
   "id": "73e5ae5c-07a2-4355-81da-2f07216f9d25",
   "metadata": {},
   "outputs": [],
   "source": [
    "user_input = [[\"Dynamic\", \"Spicy\"],  [\"Beef\"], [\"Thai\", \"Italian\"]]"
   ]
  },
  {
   "cell_type": "code",
   "execution_count": 451,
   "id": "fabb9f1f-8056-4eaf-ba21-adf3d295e457",
   "metadata": {},
   "outputs": [
    {
     "name": "stdout",
     "output_type": "stream",
     "text": [
      "['Thai', 'Italian'] ['Beef']\n"
     ]
    }
   ],
   "source": [
    "date_vibe = user_input[0]\n",
    "dietary_req = user_input[1]\n",
    "pref_cuisines = user_input[2]\n",
    "\n",
    "print(pref_cuisines, dietary_req)"
   ]
  },
  {
   "cell_type": "code",
   "execution_count": 452,
   "id": "47552fd4-7984-4f13-b63a-92b7a2b286ef",
   "metadata": {},
   "outputs": [],
   "source": [
    "cuisine_suggestions = []\n",
    "valid_recipes = []\n",
    "\n",
    "for user_cuisine in pref_cuisines:\n",
    "    query_str = f\"https://www.themealdb.com/api/json/v1/1/filter.php?a={user_cuisine}\"\n",
    "    request = urllib.request.Request(query_str)\n",
    "    response = urllib.request.urlopen(request)\n",
    "    all_cuisines = json.loads(response.read())\n",
    "    cuisine = all_cuisines['meals']\n",
    "    \n",
    "    for dish in cuisine:\n",
    "        dish_id = dish['idMeal']\n",
    "        query_str = f\"https://www.themealdb.com/api/json/v1/1/lookup.php?i={dish_id}\"\n",
    "        request = urllib.request.Request(query_str)\n",
    "        response = urllib.request.urlopen(request)\n",
    "        all_ingred = json.loads(response.read())\n",
    "        dish_info = all_ingred['meals']\n",
    "        \n",
    "        for detail in dish_info:\n",
    "            for req in dietary_req:\n",
    "                index = dietary_req.index(req)\n",
    "                if detail['strCategory'] == dietary_req[index]:\n",
    "                    meal = detail['strMeal']\n",
    "                    category = detail['strCategory']\n",
    "                    area = detail['strArea']\n",
    "                    instruct = detail['strInstructions']\n",
    "                    image = detail['strMealThumb']\n",
    "                    ls = [meal, category, area, instruct, image]\n",
    "                    valid_recipes.append(ls)\n",
    "                    \n",
    "if len(valid_recipes) == 0:\n",
    "    print(\"No recipes found :( Please try again!\")\n",
    "else: \n",
    "    your_meal = random.choice(valid_recipes)\n",
    "\n",
    "meal = your_meal[0]\n",
    "instruct = your_meal[3]\n"
   ]
  },
  {
   "cell_type": "code",
   "execution_count": 453,
   "id": "e02db8f4-2a55-4af1-8fe3-5d5374708418",
   "metadata": {},
   "outputs": [
    {
     "name": "stdout",
     "output_type": "stream",
     "text": [
      "['Spaghetti Bolognese', 'Beef', 'Italian', 'Put the onion and oil in a large pan and fry over a fairly high heat for 3-4 mins. Add the garlic and mince and fry until they both brown. Add the mushrooms and herbs, and cook for another couple of mins.\\r\\n\\r\\nStir in the tomatoes, beef stock, tomato ketchup or purée, Worcestershire sauce and seasoning. Bring to the boil, then reduce the heat, cover and simmer, stirring occasionally, for 30 mins.\\r\\n\\r\\nMeanwhile, cook the spaghetti in a large pan of boiling, salted water, according to packet instructions. Drain well, run hot water through it, put it back in the pan and add a dash of olive oil, if you like, then stir in the meat sauce. Serve in hot bowls and hand round Parmesan cheese, for sprinkling on top.', 'https://www.themealdb.com/images/media/meals/sutysw1468247559.jpg']\n"
     ]
    }
   ],
   "source": [
    "print(your_meal)"
   ]
  },
  {
   "cell_type": "code",
   "execution_count": 454,
   "id": "14551499-09f3-42c8-9037-fa334fde7894",
   "metadata": {},
   "outputs": [],
   "source": [
    "urllib.request.urlretrieve(your_meal[4], f\"{your_meal[0].replace(\" \", \"_\")}.png\")\n",
    "img = Image.open(f\"{your_meal[0].replace(\" \", \"_\")}.png\")\n",
    "img.show()"
   ]
  },
  {
   "cell_type": "code",
   "execution_count": 455,
   "id": "25cb207c-ccef-4248-bd11-40c14595665b",
   "metadata": {},
   "outputs": [],
   "source": [
    "output_reqs = ', ' .join([str(element) for element in dietary_req])"
   ]
  },
  {
   "cell_type": "code",
   "execution_count": 456,
   "id": "0084e798-3006-4600-8861-3934a8596837",
   "metadata": {},
   "outputs": [
    {
     "name": "stdout",
     "output_type": "stream",
     "text": [
      "Hey there! Looks like I found something just for you ( ͡~ ͜ʖ ͡°)\n",
      "\n",
      "Based on your request I recommend trying Spaghetti Bolognese! To prepare this delicious meal follow the instructions below:\n",
      "Put the onion and oil in a large pan and fry over a fairly high heat for 3-4 mins. Add the garlic and mince and fry until they both brown. Add the mushrooms and herbs, and cook for another couple of mins.\n",
      "\n",
      "Stir in the tomatoes, beef stock, tomato ketchup or purée, Worcestershire sauce and seasoning. Bring to the boil, then reduce the heat, cover and simmer, stirring occasionally, for 30 mins.\n",
      "\n",
      "Meanwhile, cook the spaghetti in a large pan of boiling, salted water, according to packet instructions. Drain well, run hot water through it, put it back in the pan and add a dash of olive oil, if you like, then stir in the meat sauce. Serve in hot bowls and hand round Parmesan cheese, for sprinkling on top. \n",
      "\n",
      "XoXo\n",
      "Date Nightinator (っ ͠≖ ͜ʖ ͠≖ )っ🎔\n"
     ]
    }
   ],
   "source": [
    "print(f\"Hey there! Looks like I found something just for you ( ͡~ ͜ʖ ͡°)\\n\\nBased on your request I recommend trying {meal}! To prepare this delicious meal follow the instructions below:\\n{instruct} \\n\\nXoXo\\nDate Nightinator (っ ͠≖ ͜ʖ ͠≖ )っ🎔\")"
   ]
  }
 ],
 "metadata": {
  "kernelspec": {
   "display_name": "Python 3 (ipykernel)",
   "language": "python",
   "name": "python3"
  },
  "language_info": {
   "codemirror_mode": {
    "name": "ipython",
    "version": 3
   },
   "file_extension": ".py",
   "mimetype": "text/x-python",
   "name": "python",
   "nbconvert_exporter": "python",
   "pygments_lexer": "ipython3",
   "version": "3.12.0"
  }
 },
 "nbformat": 4,
 "nbformat_minor": 5
}
