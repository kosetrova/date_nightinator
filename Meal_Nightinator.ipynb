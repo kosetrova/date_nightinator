{
 "cells": [
  {
   "cell_type": "code",
   "execution_count": 6,
   "id": "db50dc2f-a250-4384-9ff2-6e3b3a5e555b",
   "metadata": {},
   "outputs": [],
   "source": [
    "import spotipy\n",
    "import json\n",
    "import webbrowser\n",
    "import pandas\n",
    "import urllib.request\n",
    "import spotipy.util as util"
   ]
  },
  {
   "cell_type": "code",
   "execution_count": 170,
   "id": "73e5ae5c-07a2-4355-81da-2f07216f9d25",
   "metadata": {},
   "outputs": [],
   "source": [
    "user_input = [[\"Dynamic\", \"Spicy\"],  [\"Beef\"], [\"Thai\"]]"
   ]
  },
  {
   "cell_type": "code",
   "execution_count": 279,
   "id": "fabb9f1f-8056-4eaf-ba21-adf3d295e457",
   "metadata": {},
   "outputs": [
    {
     "data": {
      "text/plain": [
       "'Thai'"
      ]
     },
     "execution_count": 279,
     "metadata": {},
     "output_type": "execute_result"
    }
   ],
   "source": [
    "date_vibe = user_input[0]\n",
    "dietary_req = 'Beef'\n",
    "pref_cuisines = 'Thai'\n",
    "pref_cuisines"
   ]
  },
  {
   "cell_type": "code",
   "execution_count": 280,
   "id": "20d1dad3-c363-41c4-9dde-d3ee8a29a253",
   "metadata": {},
   "outputs": [
    {
     "name": "stdout",
     "output_type": "stream",
     "text": [
      "[['Massaman Beef curry', '52827']]\n"
     ]
    }
   ],
   "source": [
    "cuisine_suggestions = []\n",
    "query_str = f\"https://www.themealdb.com/api/json/v1/1/filter.php?a={pref_cuisines}\"\n",
    "request = urllib.request.Request(query_str)\n",
    "response = urllib.request.urlopen(request)\n",
    "all_cuisines = json.loads(response.read())\n",
    "cuisine = all_cuisines['meals']\n",
    "meal_name = cuisine[0]['strMeal']\n",
    "meal_id = cuisine[0]['idMeal']\n",
    "cuisine_suggestions.append([meal_name, meal_id])\n",
    "print(cuisine_suggestions)"
   ]
  },
  {
   "cell_type": "code",
   "execution_count": 297,
   "id": "9862db57-9150-46a2-bc87-a45fd79953c4",
   "metadata": {},
   "outputs": [
    {
     "name": "stdout",
     "output_type": "stream",
     "text": [
      "Your prefered cuisine is Thai, and your dietary requirement is Beef. I suggest trying Massaman Beef curry!\n",
      " \n",
      "To cook this flavorful dish: Heat oven to 200C/180C fan/gas 6, then roast the peanuts on a baking tray for 5 mins until golden brown. When cool enough to handle, roughly chop. Reduce oven to 180C/160C fan/gas 4.\n",
      "Heat 2 tbsp coconut cream in a large casserole dish with a lid. Add the curry paste and fry for 1 min, then stir in the beef and fry until well coated and sealed. Stir in the rest of the coconut with half a can of water, the potatoes, onion, lime leaves, cinnamon, tamarind, sugar, fish sauce and most of the peanuts. Bring to a simmer, then cover and cook for 2 hrs in the oven until the beef is tender.\n",
      "Sprinkle with sliced chilli and the remaining peanuts, then serve straight from the dish with jasmine rice. \n",
      "\n",
      "Hope you enjoy the meal! \n"
     ]
    }
   ],
   "source": [
    "ingred = []\n",
    "query_str = f\"https://www.themealdb.com/api/json/v1/1/lookup.php?i={meal_id}\"\n",
    "request = urllib.request.Request(query_str)\n",
    "response = urllib.request.urlopen(request)\n",
    "all_ingred = json.loads(response.read())\n",
    "ingreds = all_ingred['meals']\n",
    "food_name = ingreds[0]['strMeal']\n",
    "food_category = ingreds[0]['strCategory']\n",
    "food_area = ingreds[0]['strArea']\n",
    "recipe = ingreds[0]['strInstructions']\n",
    "ingred.append([food_name, food_category, food_area, recipe])\n",
    "print(f\"Your prefered cuisine is {pref_cuisines}, and your dietary requirement is {dietary_req}. I suggest trying {meal_name}!\\n \\nTo cook this flavorful dish: {recipe} \\n\\nHope you enjoy the meal! \")"
   ]
  },
  {
   "cell_type": "code",
   "execution_count": 282,
   "id": "fec72bc9-5c76-4215-8068-86447f40056b",
   "metadata": {},
   "outputs": [
    {
     "name": "stdout",
     "output_type": "stream",
     "text": [
      "[['Beef']]\n"
     ]
    }
   ],
   "source": [
    "pref = dietary_req\n",
    "food_suggestions = []\n",
    "query_str = f\"https://www.themealdb.com/api/json/v1/1/filter.php?i={pref}\"\n",
    "request = urllib.request.Request(query_str)\n",
    "response = urllib.request.urlopen(request)\n",
    "all_food = json.loads(response.read())\n",
    "all_food\n",
    "food_suggestions.append([pref])\n",
    "print(food_suggestions)"
   ]
  },
  {
   "cell_type": "code",
   "execution_count": 232,
   "id": "1c8436ff-e1d5-446d-9406-b2c5ade023d6",
   "metadata": {
    "scrolled": true
   },
   "outputs": [
    {
     "data": {
      "text/plain": [
       "{'meals': [{'strMeal': 'Beef and Mustard Pie',\n",
       "   'strMealThumb': 'https://www.themealdb.com/images/media/meals/sytuqu1511553755.jpg',\n",
       "   'idMeal': '52874'},\n",
       "  {'strMeal': 'Beef and Oyster pie',\n",
       "   'strMealThumb': 'https://www.themealdb.com/images/media/meals/wrssvt1511556563.jpg',\n",
       "   'idMeal': '52878'},\n",
       "  {'strMeal': 'Beef Asado',\n",
       "   'strMealThumb': 'https://www.themealdb.com/images/media/meals/pkopc31683207947.jpg',\n",
       "   'idMeal': '53071'},\n",
       "  {'strMeal': 'Beef Caldereta',\n",
       "   'strMealThumb': 'https://www.themealdb.com/images/media/meals/41cxjh1683207682.jpg',\n",
       "   'idMeal': '53070'},\n",
       "  {'strMeal': 'Beef Dumpling Stew',\n",
       "   'strMealThumb': 'https://www.themealdb.com/images/media/meals/uyqrrv1511553350.jpg',\n",
       "   'idMeal': '52873'},\n",
       "  {'strMeal': 'Beef Lo Mein',\n",
       "   'strMealThumb': 'https://www.themealdb.com/images/media/meals/1529444830.jpg',\n",
       "   'idMeal': '52952'},\n",
       "  {'strMeal': 'Beef Mechado',\n",
       "   'strMealThumb': 'https://www.themealdb.com/images/media/meals/cgl60b1683206581.jpg',\n",
       "   'idMeal': '53068'},\n",
       "  {'strMeal': 'Beef Rendang',\n",
       "   'strMealThumb': 'https://www.themealdb.com/images/media/meals/bc8v651619789840.jpg',\n",
       "   'idMeal': '53053'},\n",
       "  {'strMeal': 'Beef Sunday Roast',\n",
       "   'strMealThumb': 'https://www.themealdb.com/images/media/meals/ssrrrs1503664277.jpg',\n",
       "   'idMeal': '52824'},\n",
       "  {'strMeal': 'Bistek',\n",
       "   'strMealThumb': 'https://www.themealdb.com/images/media/meals/4pqimk1683207418.jpg',\n",
       "   'idMeal': '53069'},\n",
       "  {'strMeal': 'Bitterballen (Dutch meatballs)',\n",
       "   'strMealThumb': 'https://www.themealdb.com/images/media/meals/lhqev81565090111.jpg',\n",
       "   'idMeal': '52979'},\n",
       "  {'strMeal': 'Braised Beef Chilli',\n",
       "   'strMealThumb': 'https://www.themealdb.com/images/media/meals/uuqvwu1504629254.jpg',\n",
       "   'idMeal': '52826'},\n",
       "  {'strMeal': 'Egyptian Fatteh',\n",
       "   'strMealThumb': 'https://www.themealdb.com/images/media/meals/rlwcc51598734603.jpg',\n",
       "   'idMeal': '53031'},\n",
       "  {'strMeal': 'Massaman Beef curry',\n",
       "   'strMealThumb': 'https://www.themealdb.com/images/media/meals/tvttqv1504640475.jpg',\n",
       "   'idMeal': '52827'},\n",
       "  {'strMeal': 'Moussaka',\n",
       "   'strMealThumb': 'https://www.themealdb.com/images/media/meals/ctg8jd1585563097.jpg',\n",
       "   'idMeal': '53006'},\n",
       "  {'strMeal': 'Mulukhiyah',\n",
       "   'strMealThumb': 'https://www.themealdb.com/images/media/meals/x372ug1598733932.jpg',\n",
       "   'idMeal': '53029'},\n",
       "  {'strMeal': 'Red Peas Soup',\n",
       "   'strMealThumb': 'https://www.themealdb.com/images/media/meals/sqpqtp1515365614.jpg',\n",
       "   'idMeal': '52941'},\n",
       "  {'strMeal': 'Steak and Kidney Pie',\n",
       "   'strMealThumb': 'https://www.themealdb.com/images/media/meals/qysyss1511558054.jpg',\n",
       "   'idMeal': '52881'},\n",
       "  {'strMeal': 'Szechuan Beef',\n",
       "   'strMealThumb': 'https://www.themealdb.com/images/media/meals/1529443236.jpg',\n",
       "   'idMeal': '52950'},\n",
       "  {'strMeal': 'Traditional Croatian Goulash',\n",
       "   'strMealThumb': 'https://www.themealdb.com/images/media/meals/n1hcou1628770088.jpg',\n",
       "   'idMeal': '53057'}]}"
      ]
     },
     "execution_count": 232,
     "metadata": {},
     "output_type": "execute_result"
    }
   ],
   "source": [
    "pref = \"Beef\"\n",
    "pref_request = urllib.request.Request(f\"https://www.themealdb.com/api/json/v1/1/filter.php?i={pref}\")\n",
    "pref_response = urllib.request.urlopen(pref_request)\n",
    "pref_meal = json.loads(pref_response.read())\n",
    "pref_meal"
   ]
  },
  {
   "cell_type": "code",
   "execution_count": null,
   "id": "e0310834-b7c8-46fb-9b7f-1db43edfd5d8",
   "metadata": {},
   "outputs": [],
   "source": [
    "request = urllib.request.Request(\"https://www.themealdb.com/api/json/v1/1/search.php?s=la\")\n",
    "response = urllib.request.urlopen(request)\n",
    "meal = json.loads(response.read())"
   ]
  },
  {
   "cell_type": "code",
   "execution_count": 12,
   "id": "f4333dfa-5b62-4240-b977-37fa800eefd7",
   "metadata": {},
   "outputs": [],
   "source": [
    "meal_category = meal['meals'][0]['strCategory']"
   ]
  },
  {
   "cell_type": "code",
   "execution_count": 13,
   "id": "7273a4aa-a54a-499c-b6ef-3eefcf463e6c",
   "metadata": {},
   "outputs": [
    {
     "data": {
      "text/plain": [
       "'Italian'"
      ]
     },
     "execution_count": 13,
     "metadata": {},
     "output_type": "execute_result"
    }
   ],
   "source": [
    "meal_cuisine = meal['meals'][0]['strArea']\n",
    "meal_cuisine"
   ]
  },
  {
   "cell_type": "code",
   "execution_count": 14,
   "id": "c7e97f58-3386-4ade-9a5f-57dcbad1dd8d",
   "metadata": {},
   "outputs": [
    {
     "name": "stdout",
     "output_type": "stream",
     "text": [
      "Pasta,Italian\n"
     ]
    }
   ],
   "source": [
    "print(meal_category + \",\" + meal_cuisine)"
   ]
  },
  {
   "cell_type": "code",
   "execution_count": 15,
   "id": "9dc4f815-927e-41f4-b77a-dbda59920505",
   "metadata": {},
   "outputs": [],
   "source": [
    "meals = meal['meals'][0]['strCategory'] + \", \" + meal['meals'][0]['strArea']"
   ]
  },
  {
   "cell_type": "code",
   "execution_count": 16,
   "id": "47f31d0d-1ae1-4e9b-acc4-793bb9011e86",
   "metadata": {},
   "outputs": [
    {
     "data": {
      "text/plain": [
       "'Pasta, Italian'"
      ]
     },
     "execution_count": 16,
     "metadata": {},
     "output_type": "execute_result"
    }
   ],
   "source": [
    "meals"
   ]
  },
  {
   "cell_type": "code",
   "execution_count": 28,
   "id": "1ae1a457-0cf9-44ea-9822-a90c772156c9",
   "metadata": {},
   "outputs": [],
   "source": [
    "artist = \"\"\n",
    "if meal_category == \"Vegan\" or meal_category == \"Vegetarian\":\n",
    "    artist = \"G\"\n",
    "elif meal_category == \"Beef\":\n",
    "    artist = \"B\"\n",
    "elif meal_category == \"Chicken\":\n",
    "    artist = \"C\"\n",
    "elif meal_category == \"Lamb\":\n",
    "    artist = \"L\"\n",
    "elif meal_category == \"Pork\":\n",
    "    artist = \"P\"\n",
    "elif meal_category == \"Seafood\":\n",
    "    artist = \"S\"\n",
    "elif meal_category == \"Goat\":\n",
    "    artist = \"G\"\n",
    "else:\n",
    "    artist = \"A\"\n",
    "    "
   ]
  },
  {
   "cell_type": "code",
   "execution_count": null,
   "id": "e546ae3b-527a-44c6-b73d-0fd3a45d5b28",
   "metadata": {},
   "outputs": [],
   "source": []
  }
 ],
 "metadata": {
  "kernelspec": {
   "display_name": "Python 3 (ipykernel)",
   "language": "python",
   "name": "python3"
  },
  "language_info": {
   "codemirror_mode": {
    "name": "ipython",
    "version": 3
   },
   "file_extension": ".py",
   "mimetype": "text/x-python",
   "name": "python",
   "nbconvert_exporter": "python",
   "pygments_lexer": "ipython3",
   "version": "3.12.0"
  }
 },
 "nbformat": 4,
 "nbformat_minor": 5
}
