{
 "cells": [
  {
   "cell_type": "code",
   "execution_count": 2,
   "id": "db50dc2f-a250-4384-9ff2-6e3b3a5e555b",
   "metadata": {},
   "outputs": [],
   "source": [
    "import spotipy\n",
    "import json\n",
    "import webbrowser\n",
    "import pandas\n",
    "import urllib.request\n",
    "import spotipy.util as util"
   ]
  },
  {
   "cell_type": "code",
   "execution_count": 297,
   "id": "73e5ae5c-07a2-4355-81da-2f07216f9d25",
   "metadata": {},
   "outputs": [],
   "source": [
    "user_input = [[\"Dynamic\", \"Spicy\"],  [\"Beef\"], [\"Thai\", \"Italian\"]]"
   ]
  },
  {
   "cell_type": "code",
   "execution_count": 298,
   "id": "fabb9f1f-8056-4eaf-ba21-adf3d295e457",
   "metadata": {},
   "outputs": [
    {
     "data": {
      "text/plain": [
       "['Thai', 'Italian']"
      ]
     },
     "execution_count": 298,
     "metadata": {},
     "output_type": "execute_result"
    }
   ],
   "source": [
    "date_vibe = user_input[0]\n",
    "dietary_req = user_input[1]\n",
    "pref_cuisines = user_input[2]\n",
    "pref_cuisines"
   ]
  },
  {
   "cell_type": "code",
   "execution_count": 372,
   "id": "20d1dad3-c363-41c4-9dde-d3ee8a29a253",
   "metadata": {},
   "outputs": [
    {
     "name": "stdout",
     "output_type": "stream",
     "text": [
      "['52827', '52961']\n"
     ]
    }
   ],
   "source": [
    "cuisine_suggestions = []\n",
    "meal_names = []\n",
    "meal_ids = []\n",
    "\n",
    "for x in pref_cuisines:\n",
    "    query_str = f\"https://www.themealdb.com/api/json/v1/1/filter.php?a={x}\"\n",
    "    request = urllib.request.Request(query_str)\n",
    "    response = urllib.request.urlopen(request)\n",
    "    all_cuisines = json.loads(response.read())\n",
    "    cuisine = all_cuisines['meals']\n",
    "    meal_name = cuisine[0]['strMeal']\n",
    "    meal_id = cuisine[0]['idMeal']\n",
    "\n",
    "    meal_names.append(meal_name)\n",
    "    meal_ids.append(meal_id)\n",
    "    cuisine_suggestions.append([meal_name, meal_id])\n",
    "    \n",
    "print(meal_ids)\n"
   ]
  },
  {
   "cell_type": "code",
   "execution_count": 382,
   "id": "414fac54-4e20-4871-a317-cf12a2efe302",
   "metadata": {},
   "outputs": [
    {
     "name": "stdout",
     "output_type": "stream",
     "text": [
      "[['Budino Di Ricotta', 'Beef'], ['Budino Di Ricotta', 'Dessert']]\n"
     ]
    }
   ],
   "source": [
    "categories = []\n",
    "prefs = []\n",
    "for z in meal_ids:\n",
    "    query_str = f\"https://www.themealdb.com/api/json/v1/1/lookup.php?i={z}\"\n",
    "    request = urllib.request.Request(query_str)\n",
    "    response = urllib.request.urlopen(request)\n",
    "    all_ingred = json.loads(response.read())\n",
    "    category = all_ingred['meals']\n",
    "    ingredient = category[0]['strCategory']\n",
    "    categories.append([meal_name, ingredient])\n",
    "\n",
    "print(categories)\n"
   ]
  },
  {
   "cell_type": "code",
   "execution_count": 374,
   "id": "d3c9155b-43b5-4e81-8ee5-7dcaffa886ea",
   "metadata": {},
   "outputs": [],
   "source": [
    "if categories in dietary_req:\n",
    "        print(categories)"
   ]
  },
  {
   "cell_type": "code",
   "execution_count": 397,
   "id": "9862db57-9150-46a2-bc87-a45fd79953c4",
   "metadata": {},
   "outputs": [
    {
     "name": "stdout",
     "output_type": "stream",
     "text": [
      "[['Massaman Beef curry', 'Heat oven to 200C/180C fan/gas 6, then roast the peanuts on a baking tray for 5 mins until golden brown. When cool enough to handle, roughly chop. Reduce oven to 180C/160C fan/gas 4.\\r\\nHeat 2 tbsp coconut cream in a large casserole dish with a lid. Add the curry paste and fry for 1 min, then stir in the beef and fry until well coated and sealed. Stir in the rest of the coconut with half a can of water, the potatoes, onion, lime leaves, cinnamon, tamarind, sugar, fish sauce and most of the peanuts. Bring to a simmer, then cover and cook for 2 hrs in the oven until the beef is tender.\\r\\nSprinkle with sliced chilli and the remaining peanuts, then serve straight from the dish with jasmine rice.'], ['Budino Di Ricotta', 'Mash the ricotta and beat well with the egg yolks, stir in the flour, sugar, cinnamon, grated lemon rind and the rum and mix well. You can do this in a food processor. Beat the egg whites until stiff, fold in and pour into a buttered and floured 25cm cake tin. Bake in the oven at 180ºC/160ºC fan/gas 4 for about 40 minutes, or until it is firm.\\r\\n\\r\\nServe hot or cold dusted with icing sugar.']]\n"
     ]
    }
   ],
   "source": [
    "ingred = []\n",
    "recipe_list = []\n",
    "for y in meal_ids:\n",
    "    query_str = f\"https://www.themealdb.com/api/json/v1/1/lookup.php?i={y}\"\n",
    "    request = urllib.request.Request(query_str)\n",
    "    response = urllib.request.urlopen(request)\n",
    "    all_ingred = json.loads(response.read())\n",
    "    ingreds = all_ingred['meals']\n",
    "    food_name = ingreds[0]['strMeal']\n",
    "    food_category = ingreds[0]['strCategory']\n",
    "    food_area = ingreds[0]['strArea']\n",
    "    recipe = ingreds[0]['strInstructions']\n",
    "    ingred.append([food_name,recipe])\n",
    "print(ingred)"
   ]
  },
  {
   "cell_type": "code",
   "execution_count": 400,
   "id": "74d24d76-80ae-42ff-a908-9081290e2cdb",
   "metadata": {},
   "outputs": [
    {
     "name": "stdout",
     "output_type": "stream",
     "text": [
      "Your prefered cuisine is Thai, Italian, and your dietary requirement is Beef. I suggest trying Massaman Beef curry, Budino Di Ricotta!\n",
      " \n",
      "To cook this flavorful dish:['Massaman Beef curry', 'Heat oven to 200C/180C fan/gas 6, then roast the peanuts on a baking tray for 5 mins until golden brown. When cool enough to handle, roughly chop. Reduce oven to 180C/160C fan/gas 4.\\r\\nHeat 2 tbsp coconut cream in a large casserole dish with a lid. Add the curry paste and fry for 1 min, then stir in the beef and fry until well coated and sealed. Stir in the rest of the coconut with half a can of water, the potatoes, onion, lime leaves, cinnamon, tamarind, sugar, fish sauce and most of the peanuts. Bring to a simmer, then cover and cook for 2 hrs in the oven until the beef is tender.\\r\\nSprinkle with sliced chilli and the remaining peanuts, then serve straight from the dish with jasmine rice.'], ['Budino Di Ricotta', 'Mash the ricotta and beat well with the egg yolks, stir in the flour, sugar, cinnamon, grated lemon rind and the rum and mix well. You can do this in a food processor. Beat the egg whites until stiff, fold in and pour into a buttered and floured 25cm cake tin. Bake in the oven at 180ºC/160ºC fan/gas 4 for about 40 minutes, or until it is firm.\\r\\n\\r\\nServe hot or cold dusted with icing sugar.'] \n",
      "\n",
      "Hope you enjoy the meal! \n"
     ]
    }
   ],
   "source": [
    "output_cuisines = ', ' .join([str(element) for element in pref_cuisines])\n",
    "output_reqs = ', ' .join([str(element) for element in dietary_req])\n",
    "output_meals = ', ' .join([str(element) for element in meal_names])\n",
    "output_ingred = ', ' .join([str(element) for element in ingred])\n",
    "print(f\"Your prefered cuisine is {output_cuisines}, and your dietary requirement is {output_reqs}. I suggest trying {output_meals}!\\n \\nTo cook this flavorful dish:{output_ingred} \\n\\nHope you enjoy the meal! \")"
   ]
  },
  {
   "cell_type": "code",
   "execution_count": 87,
   "id": "fec72bc9-5c76-4215-8068-86447f40056b",
   "metadata": {},
   "outputs": [
    {
     "ename": "NameError",
     "evalue": "name 'pref' is not defined",
     "output_type": "error",
     "traceback": [
      "\u001b[1;31m---------------------------------------------------------------------------\u001b[0m",
      "\u001b[1;31mNameError\u001b[0m                                 Traceback (most recent call last)",
      "Cell \u001b[1;32mIn[87], line 2\u001b[0m\n\u001b[0;32m      1\u001b[0m diet \u001b[38;5;241m=\u001b[39m []\n\u001b[1;32m----> 2\u001b[0m query_str \u001b[38;5;241m=\u001b[39m \u001b[38;5;124mf\u001b[39m\u001b[38;5;124m\"\u001b[39m\u001b[38;5;124mhttps://www.themealdb.com/api/json/v1/1/filter.php?i=\u001b[39m\u001b[38;5;132;01m{\u001b[39;00m\u001b[43mpref\u001b[49m\u001b[38;5;132;01m}\u001b[39;00m\u001b[38;5;124m\"\u001b[39m\n\u001b[0;32m      3\u001b[0m request \u001b[38;5;241m=\u001b[39m urllib\u001b[38;5;241m.\u001b[39mrequest\u001b[38;5;241m.\u001b[39mRequest(query_str)\n\u001b[0;32m      4\u001b[0m response \u001b[38;5;241m=\u001b[39m urllib\u001b[38;5;241m.\u001b[39mrequest\u001b[38;5;241m.\u001b[39murlopen(request)\n",
      "\u001b[1;31mNameError\u001b[0m: name 'pref' is not defined"
     ]
    }
   ],
   "source": [
    "diet = []\n",
    "query_str = f\"https://www.themealdb.com/api/json/v1/1/filter.php?i={pref}\"\n",
    "request = urllib.request.Request(query_str)\n",
    "response = urllib.request.urlopen(request)\n",
    "all_food = json.loads(response.read())\n",
    "all_food\n",
    "food_suggestions.append([pref])\n",
    "print(food_suggestions)\n",
    "\n",
    "cuisine_suggestions = []\n",
    "meal_names = []\n",
    "for x in pref_cuisines:\n",
    "    query_str = f\"https://www.themealdb.com/api/json/v1/1/filter.php?a={x}\"\n",
    "    request = urllib.request.Request(query_str)\n",
    "    response = urllib.request.urlopen(request)\n",
    "    all_cuisines = json.loads(response.read())\n",
    "    cuisine = all_cuisines['meals']\n",
    "    meal_name = cuisine[0]['strMeal']\n",
    "    meal_id = cuisine[0]['idMeal']\n",
    "    cuisine_suggestions.append([meal_name, meal_id])\n",
    "    meal_names.append(meal_name)\n",
    "print(cuisine_suggestions)\n",
    "print(meal_names)"
   ]
  },
  {
   "cell_type": "code",
   "execution_count": 232,
   "id": "1c8436ff-e1d5-446d-9406-b2c5ade023d6",
   "metadata": {
    "scrolled": true
   },
   "outputs": [
    {
     "data": {
      "text/plain": [
       "{'meals': [{'strMeal': 'Beef and Mustard Pie',\n",
       "   'strMealThumb': 'https://www.themealdb.com/images/media/meals/sytuqu1511553755.jpg',\n",
       "   'idMeal': '52874'},\n",
       "  {'strMeal': 'Beef and Oyster pie',\n",
       "   'strMealThumb': 'https://www.themealdb.com/images/media/meals/wrssvt1511556563.jpg',\n",
       "   'idMeal': '52878'},\n",
       "  {'strMeal': 'Beef Asado',\n",
       "   'strMealThumb': 'https://www.themealdb.com/images/media/meals/pkopc31683207947.jpg',\n",
       "   'idMeal': '53071'},\n",
       "  {'strMeal': 'Beef Caldereta',\n",
       "   'strMealThumb': 'https://www.themealdb.com/images/media/meals/41cxjh1683207682.jpg',\n",
       "   'idMeal': '53070'},\n",
       "  {'strMeal': 'Beef Dumpling Stew',\n",
       "   'strMealThumb': 'https://www.themealdb.com/images/media/meals/uyqrrv1511553350.jpg',\n",
       "   'idMeal': '52873'},\n",
       "  {'strMeal': 'Beef Lo Mein',\n",
       "   'strMealThumb': 'https://www.themealdb.com/images/media/meals/1529444830.jpg',\n",
       "   'idMeal': '52952'},\n",
       "  {'strMeal': 'Beef Mechado',\n",
       "   'strMealThumb': 'https://www.themealdb.com/images/media/meals/cgl60b1683206581.jpg',\n",
       "   'idMeal': '53068'},\n",
       "  {'strMeal': 'Beef Rendang',\n",
       "   'strMealThumb': 'https://www.themealdb.com/images/media/meals/bc8v651619789840.jpg',\n",
       "   'idMeal': '53053'},\n",
       "  {'strMeal': 'Beef Sunday Roast',\n",
       "   'strMealThumb': 'https://www.themealdb.com/images/media/meals/ssrrrs1503664277.jpg',\n",
       "   'idMeal': '52824'},\n",
       "  {'strMeal': 'Bistek',\n",
       "   'strMealThumb': 'https://www.themealdb.com/images/media/meals/4pqimk1683207418.jpg',\n",
       "   'idMeal': '53069'},\n",
       "  {'strMeal': 'Bitterballen (Dutch meatballs)',\n",
       "   'strMealThumb': 'https://www.themealdb.com/images/media/meals/lhqev81565090111.jpg',\n",
       "   'idMeal': '52979'},\n",
       "  {'strMeal': 'Braised Beef Chilli',\n",
       "   'strMealThumb': 'https://www.themealdb.com/images/media/meals/uuqvwu1504629254.jpg',\n",
       "   'idMeal': '52826'},\n",
       "  {'strMeal': 'Egyptian Fatteh',\n",
       "   'strMealThumb': 'https://www.themealdb.com/images/media/meals/rlwcc51598734603.jpg',\n",
       "   'idMeal': '53031'},\n",
       "  {'strMeal': 'Massaman Beef curry',\n",
       "   'strMealThumb': 'https://www.themealdb.com/images/media/meals/tvttqv1504640475.jpg',\n",
       "   'idMeal': '52827'},\n",
       "  {'strMeal': 'Moussaka',\n",
       "   'strMealThumb': 'https://www.themealdb.com/images/media/meals/ctg8jd1585563097.jpg',\n",
       "   'idMeal': '53006'},\n",
       "  {'strMeal': 'Mulukhiyah',\n",
       "   'strMealThumb': 'https://www.themealdb.com/images/media/meals/x372ug1598733932.jpg',\n",
       "   'idMeal': '53029'},\n",
       "  {'strMeal': 'Red Peas Soup',\n",
       "   'strMealThumb': 'https://www.themealdb.com/images/media/meals/sqpqtp1515365614.jpg',\n",
       "   'idMeal': '52941'},\n",
       "  {'strMeal': 'Steak and Kidney Pie',\n",
       "   'strMealThumb': 'https://www.themealdb.com/images/media/meals/qysyss1511558054.jpg',\n",
       "   'idMeal': '52881'},\n",
       "  {'strMeal': 'Szechuan Beef',\n",
       "   'strMealThumb': 'https://www.themealdb.com/images/media/meals/1529443236.jpg',\n",
       "   'idMeal': '52950'},\n",
       "  {'strMeal': 'Traditional Croatian Goulash',\n",
       "   'strMealThumb': 'https://www.themealdb.com/images/media/meals/n1hcou1628770088.jpg',\n",
       "   'idMeal': '53057'}]}"
      ]
     },
     "execution_count": 232,
     "metadata": {},
     "output_type": "execute_result"
    }
   ],
   "source": [
    "pref = \"Beef\"\n",
    "pref_request = urllib.request.Request(f\"https://www.themealdb.com/api/json/v1/1/filter.php?i={pref}\")\n",
    "pref_response = urllib.request.urlopen(pref_request)\n",
    "pref_meal = json.loads(pref_response.read())\n",
    "pref_meal"
   ]
  },
  {
   "cell_type": "code",
   "execution_count": null,
   "id": "e0310834-b7c8-46fb-9b7f-1db43edfd5d8",
   "metadata": {},
   "outputs": [],
   "source": [
    "request = urllib.request.Request(\"https://www.themealdb.com/api/json/v1/1/search.php?s=la\")\n",
    "response = urllib.request.urlopen(request)\n",
    "meal = json.loads(response.read())"
   ]
  },
  {
   "cell_type": "code",
   "execution_count": 28,
   "id": "1ae1a457-0cf9-44ea-9822-a90c772156c9",
   "metadata": {},
   "outputs": [],
   "source": [
    "artist = \"\"\n",
    "if meal_category == \"Vegan\" or meal_category == \"Vegetarian\":\n",
    "    artist = \"G\"\n",
    "elif meal_category == \"Beef\":\n",
    "    artist = \"B\"\n",
    "elif meal_category == \"Chicken\":\n",
    "    artist = \"C\"\n",
    "elif meal_category == \"Lamb\":\n",
    "    artist = \"L\"\n",
    "elif meal_category == \"Pork\":\n",
    "    artist = \"P\"\n",
    "elif meal_category == \"Seafood\":\n",
    "    artist = \"S\"\n",
    "elif meal_category == \"Goat\":\n",
    "    artist = \"G\"\n",
    "else:\n",
    "    artist = \"A\"\n",
    "    "
   ]
  },
  {
   "cell_type": "code",
   "execution_count": null,
   "id": "e546ae3b-527a-44c6-b73d-0fd3a45d5b28",
   "metadata": {},
   "outputs": [],
   "source": []
  }
 ],
 "metadata": {
  "kernelspec": {
   "display_name": "Python 3 (ipykernel)",
   "language": "python",
   "name": "python3"
  },
  "language_info": {
   "codemirror_mode": {
    "name": "ipython",
    "version": 3
   },
   "file_extension": ".py",
   "mimetype": "text/x-python",
   "name": "python",
   "nbconvert_exporter": "python",
   "pygments_lexer": "ipython3",
   "version": "3.12.0"
  }
 },
 "nbformat": 4,
 "nbformat_minor": 5
}
