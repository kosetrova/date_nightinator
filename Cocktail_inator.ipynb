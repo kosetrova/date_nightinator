{
 "cells": [
  {
   "cell_type": "code",
   "execution_count": 116,
   "metadata": {},
   "outputs": [],
   "source": [
    "#Omotara's file"
   ]
  },
  {
   "cell_type": "code",
   "execution_count": 117,
   "metadata": {},
   "outputs": [],
   "source": [
    "import spotipy, json, webbrowser, urllib.request\n",
    "import pandas as pd\n",
    "import spotipy.util as util"
   ]
  },
  {
   "cell_type": "code",
   "execution_count": 118,
   "metadata": {},
   "outputs": [],
   "source": [
    "user_input = [[\"Dynamic\", \"Spicy\"],  [\"Beef\"], [\"Thai\", \"Indian\", \"Korean\"]]"
   ]
  },
  {
   "cell_type": "code",
   "execution_count": 119,
   "metadata": {},
   "outputs": [],
   "source": [
    "kseniia_lucky_number = 5\n",
    "omotara_lucky_number = 3"
   ]
  },
  {
   "cell_type": "code",
   "execution_count": 120,
   "metadata": {},
   "outputs": [],
   "source": [
    "date_vibe = user_input[0]\n",
    "dietary_req = user_input[1]\n",
    "pref_cuisines = user_input[2]"
   ]
  },
  {
   "cell_type": "code",
   "execution_count": 121,
   "metadata": {},
   "outputs": [
    {
     "name": "stdout",
     "output_type": "stream",
     "text": [
      "['d', 'y', 'n', 'a', 'm', 'i', 'c', 's', 'p', 'i', 'c', 'y']\n"
     ]
    }
   ],
   "source": [
    "letters = []\n",
    "\n",
    "for word in date_vibe:\n",
    "    for char in word:\n",
    "        letters.append(char.lower())\n",
    "\n",
    "print(letters)"
   ]
  },
  {
   "cell_type": "code",
   "execution_count": 130,
   "metadata": {},
   "outputs": [
    {
     "name": "stdout",
     "output_type": "stream",
     "text": [
      "[['Derby', 'Pour all ingredients into a mixing glass with ice. Stir. Strain into a cocktail glass. Garnish with a sprig of fresh mint in the drink.', 'gin, Peach Bitters, Mint'], ['Yellow Bird', 'Shake and strain into a chilled cocktail glass', 'White Rum, Galliano, Triple Sec, Lime Juice'], ['Negroni', 'Stir into glass over ice, garnish and serve.', 'Gin, Campari, Sweet Vermouth'], ['A1', 'Pour all ingredients into a cocktail shaker, mix and serve over ice into a chilled glass.', 'Gin, Grand Marnier, Lemon Juice, Grenadine'], ['Melya', 'Brew espresso. In a coffee mug, place 1 teaspoon of unsweetened powdered cocoa, then cover a teaspoon with honey and drizzle it into the cup. Stir while the coffee brews, this is the fun part. The cocoa seems to coat the honey without mixing, so you get a dusty, sticky mass that looks as though it will never mix. Then all at once, presto! It looks like dark chocolate sauce. Pour hot espresso over the honey, stirring to dissolve. Serve with cream.', 'Espresso, Honey, Cocoa powder'], ['Ipamena', 'Cut half a lime into pieces, place in a shaker, add the sugar and crush. Measure the passion fruit juice, add it to the shaker and fill up with ice cubes. Close the shaker and shake vigorously. Pour the liquid into a glass, top up with ginger ale, stir with a teaspoon and then garnish the rim of the glass with a slice of lime', 'Lime, Brown sugar, Passion fruit juice, Ginger ale, Ice'], ['Casino', 'Pour all ingredients into shaker with ice cubes. Shake well. Strain into chilled cocktail glass. Garnish with a lemon twist and a maraschino cherry. Serve without a straw.', 'Gin, Maraschino liqueur, Lemon juice, Orange bitters, Cherry'], ['Smut', 'Throw it all together and serve real cold.', 'Red wine, Peach schnapps, Pepsi Cola, Orange juice'], ['Paloma', 'Stir together and serve over ice.', 'Grape Soda, Tequila'], ['Ipamena', 'Cut half a lime into pieces, place in a shaker, add the sugar and crush. Measure the passion fruit juice, add it to the shaker and fill up with ice cubes. Close the shaker and shake vigorously. Pour the liquid into a glass, top up with ginger ale, stir with a teaspoon and then garnish the rim of the glass with a slice of lime', 'Lime, Brown sugar, Passion fruit juice, Ginger ale, Ice'], ['Casino', 'Pour all ingredients into shaker with ice cubes. Shake well. Strain into chilled cocktail glass. Garnish with a lemon twist and a maraschino cherry. Serve without a straw.', 'Gin, Maraschino liqueur, Lemon juice, Orange bitters, Cherry'], ['Yellow Bird', 'Shake and strain into a chilled cocktail glass', 'White Rum, Galliano, Triple Sec, Lime Juice']]\n"
     ]
    }
   ],
   "source": [
    "cocktail_suggestions = []\n",
    "for letter in letters:\n",
    "    number = kseniia_lucky_number\n",
    "    query_str = f\"http://www.thecocktaildb.com/api/json/v1/1/search.php?f={letter}\"\n",
    "    request = urllib.request.Request(query_str)\n",
    "    response = urllib.request.urlopen(request)\n",
    "    all_cocktails = json.loads(response.read())\n",
    "    if len(all_cocktails['drinks']) < (number-1):\n",
    "        number = len(all_cocktails['drinks'])\n",
    "    cocktail = all_cocktails['drinks']\n",
    "    if cocktail[0]['strDrink'] not in cocktail_suggestions:\n",
    "        cocktail_name = cocktail[0]['strDrink']\n",
    "        cocktail_instructions = cocktail[0]['strInstructions']\n",
    "        cocktail_ingred = cocktail[0]['strIngredient1']\n",
    "        num = 2\n",
    "        while cocktail[0][f'strIngredient{num}'] != None:\n",
    "            cocktail_ingred = cocktail_ingred + \", \" + cocktail[0][f'strIngredient{num}']\n",
    "            num += 1\n",
    "        cocktail_suggestions.append([cocktail_name, cocktail_instructions, cocktail_ingred])\n",
    "print(cocktail_suggestions)"
   ]
  },
  {
   "cell_type": "code",
   "execution_count": 135,
   "metadata": {},
   "outputs": [
    {
     "name": "stdout",
     "output_type": "stream",
     "text": [
      "Your cocktail for the evening is an A1\n",
      " Here's the recipe\n",
      " Ingredients: Gin, Grand Marnier, Lemon Juice, Grenadine\n",
      " Steps: Pour all ingredients into a cocktail shaker, mix and serve over ice into a chilled glass.\n"
     ]
    }
   ],
   "source": [
    "number = omotara_lucky_number\n",
    "if len(cocktail_suggestions) < number:\n",
    "    number = len(cocktail_suggestions)\n",
    "your_cocktail = cocktail_suggestions[number][0]\n",
    "your_recipe = cocktail_suggestions[number][1]\n",
    "your_ingredients = cocktail_suggestions[number][2]\n",
    "\n",
    "a_or_an = \"a\"\n",
    "vowels = [\"a\", \"e\", \"i\", \"o\", \"u\"]\n",
    "if your_cocktail[0].lower() in vowels:\n",
    "    a_or_an = \"an\"\n",
    "    \n",
    "print(f\"Your cocktail for the evening is {a_or_an} {your_cocktail}\\n Here's the recipe\\n Ingredients: {your_ingredients}\\n Steps: {your_recipe}\")"
   ]
  }
 ],
 "metadata": {
  "kernelspec": {
   "display_name": ".venv",
   "language": "python",
   "name": "python3"
  },
  "language_info": {
   "codemirror_mode": {
    "name": "ipython",
    "version": 3
   },
   "file_extension": ".py",
   "mimetype": "text/x-python",
   "name": "python",
   "nbconvert_exporter": "python",
   "pygments_lexer": "ipython3",
   "version": "3.12.0"
  }
 },
 "nbformat": 4,
 "nbformat_minor": 2
}
