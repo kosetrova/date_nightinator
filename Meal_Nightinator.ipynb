{
 "cells": [
  {
   "cell_type": "code",
   "execution_count": 2,
   "id": "db50dc2f-a250-4384-9ff2-6e3b3a5e555b",
   "metadata": {},
   "outputs": [],
   "source": [
    "import spotipy\n",
    "import json\n",
    "import webbrowser\n",
    "import pandas\n",
    "import urllib.request\n",
    "import spotipy.util as util"
   ]
  },
  {
   "cell_type": "code",
   "execution_count": 131,
   "id": "20d1dad3-c363-41c4-9dde-d3ee8a29a253",
   "metadata": {},
   "outputs": [],
   "source": [
    "request = urllib.request.Request(\"https://www.themealdb.com/api/json/v1/1/search.php?s=la\")\n",
    "response = urllib.request.urlopen(request)\n",
    "meal = json.loads(response.read())"
   ]
  },
  {
   "cell_type": "code",
   "execution_count": 194,
   "id": "9e4bc412-6992-4a0d-9f67-361b1e44276a",
   "metadata": {},
   "outputs": [
    {
     "data": {
      "text/plain": [
       "{'meals': [{'strMeal': ' Bubble & Squeak',\n",
       "   'strMealThumb': 'https://www.themealdb.com/images/media/meals/xusqvw1511638311.jpg',\n",
       "   'idMeal': '52885'},\n",
       "  {'strMeal': 'Apple & Blackberry Crumble',\n",
       "   'strMealThumb': 'https://www.themealdb.com/images/media/meals/xvsurr1511719182.jpg',\n",
       "   'idMeal': '52893'},\n",
       "  {'strMeal': 'Apple Frangipan Tart',\n",
       "   'strMealThumb': 'https://www.themealdb.com/images/media/meals/wxywrq1468235067.jpg',\n",
       "   'idMeal': '52768'},\n",
       "  {'strMeal': 'Baked salmon with fennel & tomatoes',\n",
       "   'strMealThumb': 'https://www.themealdb.com/images/media/meals/1548772327.jpg',\n",
       "   'idMeal': '52959'},\n",
       "  {'strMeal': 'Bakewell tart',\n",
       "   'strMealThumb': 'https://www.themealdb.com/images/media/meals/wyrqqq1468233628.jpg',\n",
       "   'idMeal': '52767'},\n",
       "  {'strMeal': 'Battenberg Cake',\n",
       "   'strMealThumb': 'https://www.themealdb.com/images/media/meals/ywwrsp1511720277.jpg',\n",
       "   'idMeal': '52894'},\n",
       "  {'strMeal': 'Bean & Sausage Hotpot',\n",
       "   'strMealThumb': 'https://www.themealdb.com/images/media/meals/vxuyrx1511302687.jpg',\n",
       "   'idMeal': '52848'},\n",
       "  {'strMeal': 'Beef and Mustard Pie',\n",
       "   'strMealThumb': 'https://www.themealdb.com/images/media/meals/sytuqu1511553755.jpg',\n",
       "   'idMeal': '52874'},\n",
       "  {'strMeal': 'Beef and Oyster pie',\n",
       "   'strMealThumb': 'https://www.themealdb.com/images/media/meals/wrssvt1511556563.jpg',\n",
       "   'idMeal': '52878'},\n",
       "  {'strMeal': 'Beef Dumpling Stew',\n",
       "   'strMealThumb': 'https://www.themealdb.com/images/media/meals/uyqrrv1511553350.jpg',\n",
       "   'idMeal': '52873'},\n",
       "  {'strMeal': 'Beef Sunday Roast',\n",
       "   'strMealThumb': 'https://www.themealdb.com/images/media/meals/ssrrrs1503664277.jpg',\n",
       "   'idMeal': '52824'},\n",
       "  {'strMeal': 'Beef Wellington',\n",
       "   'strMealThumb': 'https://www.themealdb.com/images/media/meals/vvpprx1487325699.jpg',\n",
       "   'idMeal': '52803'},\n",
       "  {'strMeal': 'Blackberry Fool',\n",
       "   'strMealThumb': 'https://www.themealdb.com/images/media/meals/rpvptu1511641092.jpg',\n",
       "   'idMeal': '52891'},\n",
       "  {'strMeal': 'Bread and Butter Pudding',\n",
       "   'strMealThumb': 'https://www.themealdb.com/images/media/meals/xqwwpy1483908697.jpg',\n",
       "   'idMeal': '52792'},\n",
       "  {'strMeal': 'Broccoli & Stilton soup',\n",
       "   'strMealThumb': 'https://www.themealdb.com/images/media/meals/tvvxpv1511191952.jpg',\n",
       "   'idMeal': '52842'},\n",
       "  {'strMeal': 'Carrot Cake',\n",
       "   'strMealThumb': 'https://www.themealdb.com/images/media/meals/vrspxv1511722107.jpg',\n",
       "   'idMeal': '52897'},\n",
       "  {'strMeal': 'Chelsea Buns',\n",
       "   'strMealThumb': 'https://www.themealdb.com/images/media/meals/vqpwrv1511723001.jpg',\n",
       "   'idMeal': '52898'},\n",
       "  {'strMeal': 'Chicken & mushroom Hotpot',\n",
       "   'strMealThumb': 'https://www.themealdb.com/images/media/meals/uuuspp1511297945.jpg',\n",
       "   'idMeal': '52846'},\n",
       "  {'strMeal': 'Chicken Ham and Leek Pie',\n",
       "   'strMealThumb': 'https://www.themealdb.com/images/media/meals/xrrtss1511555269.jpg',\n",
       "   'idMeal': '52875'},\n",
       "  {'strMeal': 'Chocolate Avocado Mousse',\n",
       "   'strMealThumb': 'https://www.themealdb.com/images/media/meals/uttuxy1511382180.jpg',\n",
       "   'idMeal': '52853'},\n",
       "  {'strMeal': 'Chocolate Caramel Crispy',\n",
       "   'strMealThumb': 'https://www.themealdb.com/images/media/meals/1550442508.jpg',\n",
       "   'idMeal': '52966'},\n",
       "  {'strMeal': 'Christmas cake',\n",
       "   'strMealThumb': 'https://www.themealdb.com/images/media/meals/ldnrm91576791881.jpg',\n",
       "   'idMeal': '52990'},\n",
       "  {'strMeal': 'Christmas Pudding Flapjack',\n",
       "   'strMealThumb': 'https://www.themealdb.com/images/media/meals/vvusxs1483907034.jpg',\n",
       "   'idMeal': '52788'},\n",
       "  {'strMeal': 'Christmas Pudding Trifle',\n",
       "   'strMealThumb': 'https://www.themealdb.com/images/media/meals/r33cud1576791081.jpg',\n",
       "   'idMeal': '52989'},\n",
       "  {'strMeal': 'Classic Christmas pudding',\n",
       "   'strMealThumb': 'https://www.themealdb.com/images/media/meals/1d85821576790598.jpg',\n",
       "   'idMeal': '52988'},\n",
       "  {'strMeal': 'Creamy Tomato Soup',\n",
       "   'strMealThumb': 'https://www.themealdb.com/images/media/meals/stpuws1511191310.jpg',\n",
       "   'idMeal': '52841'},\n",
       "  {'strMeal': 'Dundee cake',\n",
       "   'strMealThumb': 'https://www.themealdb.com/images/media/meals/wxyvqq1511723401.jpg',\n",
       "   'idMeal': '52899'},\n",
       "  {'strMeal': 'Eccles Cakes',\n",
       "   'strMealThumb': 'https://www.themealdb.com/images/media/meals/wtqrqw1511639627.jpg',\n",
       "   'idMeal': '52888'},\n",
       "  {'strMeal': 'English Breakfast',\n",
       "   'strMealThumb': 'https://www.themealdb.com/images/media/meals/utxryw1511721587.jpg',\n",
       "   'idMeal': '52895'},\n",
       "  {'strMeal': 'Eton Mess',\n",
       "   'strMealThumb': 'https://www.themealdb.com/images/media/meals/uuxwvq1483907861.jpg',\n",
       "   'idMeal': '52791'},\n",
       "  {'strMeal': 'Fish pie',\n",
       "   'strMealThumb': 'https://www.themealdb.com/images/media/meals/ysxwuq1487323065.jpg',\n",
       "   'idMeal': '52802'},\n",
       "  {'strMeal': 'Full English Breakfast',\n",
       "   'strMealThumb': 'https://www.themealdb.com/images/media/meals/sqrtwu1511721265.jpg',\n",
       "   'idMeal': '52896'},\n",
       "  {'strMeal': 'Jam Roly-Poly',\n",
       "   'strMealThumb': 'https://www.themealdb.com/images/media/meals/ysqupp1511640538.jpg',\n",
       "   'idMeal': '52890'},\n",
       "  {'strMeal': 'Kedgeree',\n",
       "   'strMealThumb': 'https://www.themealdb.com/images/media/meals/utxqpt1511639216.jpg',\n",
       "   'idMeal': '52887'},\n",
       "  {'strMeal': 'Lamb and Potato pie',\n",
       "   'strMealThumb': 'https://www.themealdb.com/images/media/meals/sxrpws1511555907.jpg',\n",
       "   'idMeal': '52877'},\n",
       "  {'strMeal': 'Lancashire hotpot',\n",
       "   'strMealThumb': 'https://www.themealdb.com/images/media/meals/uttrxw1511637813.jpg',\n",
       "   'idMeal': '52884'},\n",
       "  {'strMeal': 'Madeira Cake',\n",
       "   'strMealThumb': 'https://www.themealdb.com/images/media/meals/urtqut1511723591.jpg',\n",
       "   'idMeal': '52900'},\n",
       "  {'strMeal': 'McSinghs Scotch pie',\n",
       "   'strMealThumb': 'https://www.themealdb.com/images/media/meals/vssrtx1511557680.jpg',\n",
       "   'idMeal': '52880'},\n",
       "  {'strMeal': 'Mince Pies',\n",
       "   'strMealThumb': 'https://www.themealdb.com/images/media/meals/qe8pf51576795532.jpg',\n",
       "   'idMeal': '52991'},\n",
       "  {'strMeal': 'Minced Beef Pie',\n",
       "   'strMealThumb': 'https://www.themealdb.com/images/media/meals/xwutvy1511555540.jpg',\n",
       "   'idMeal': '52876'},\n",
       "  {'strMeal': 'Mushroom & Chestnut Rotolo',\n",
       "   'strMealThumb': 'https://www.themealdb.com/images/media/meals/ssyqwr1511451678.jpg',\n",
       "   'idMeal': '52864'},\n",
       "  {'strMeal': 'Parkin Cake',\n",
       "   'strMealThumb': 'https://www.themealdb.com/images/media/meals/qxuqtt1511724269.jpg',\n",
       "   'idMeal': '52902'},\n",
       "  {'strMeal': 'Rock Cakes',\n",
       "   'strMealThumb': 'https://www.themealdb.com/images/media/meals/tqrrsq1511723764.jpg',\n",
       "   'idMeal': '52901'},\n",
       "  {'strMeal': 'Salmon Avocado Salad',\n",
       "   'strMealThumb': 'https://www.themealdb.com/images/media/meals/1549542994.jpg',\n",
       "   'idMeal': '52960'},\n",
       "  {'strMeal': 'Smoky Lentil Chili with Squash',\n",
       "   'strMealThumb': 'https://www.themealdb.com/images/media/meals/uwxqwy1483389553.jpg',\n",
       "   'idMeal': '52784'},\n",
       "  {'strMeal': 'Spotted Dick',\n",
       "   'strMealThumb': 'https://www.themealdb.com/images/media/meals/xqvyqr1511638875.jpg',\n",
       "   'idMeal': '52886'},\n",
       "  {'strMeal': 'Steak and Kidney Pie',\n",
       "   'strMealThumb': 'https://www.themealdb.com/images/media/meals/qysyss1511558054.jpg',\n",
       "   'idMeal': '52881'},\n",
       "  {'strMeal': 'Sticky Toffee Pudding',\n",
       "   'strMealThumb': 'https://www.themealdb.com/images/media/meals/xqqqtu1511637379.jpg',\n",
       "   'idMeal': '52883'},\n",
       "  {'strMeal': 'Sticky Toffee Pudding Ultimate',\n",
       "   'strMealThumb': 'https://www.themealdb.com/images/media/meals/xrptpq1483909204.jpg',\n",
       "   'idMeal': '52793'},\n",
       "  {'strMeal': 'Strawberry Rhubarb Pie',\n",
       "   'strMealThumb': 'https://www.themealdb.com/images/media/meals/178z5o1585514569.jpg',\n",
       "   'idMeal': '53005'},\n",
       "  {'strMeal': 'Summer Pudding',\n",
       "   'strMealThumb': 'https://www.themealdb.com/images/media/meals/rsqwus1511640214.jpg',\n",
       "   'idMeal': '52889'},\n",
       "  {'strMeal': 'Three Fish Pie',\n",
       "   'strMealThumb': 'https://www.themealdb.com/images/media/meals/spswqs1511558697.jpg',\n",
       "   'idMeal': '52882'},\n",
       "  {'strMeal': 'Toad In The Hole',\n",
       "   'strMealThumb': 'https://www.themealdb.com/images/media/meals/ytuvwr1503070420.jpg',\n",
       "   'idMeal': '52822'},\n",
       "  {'strMeal': 'Treacle Tart',\n",
       "   'strMealThumb': 'https://www.themealdb.com/images/media/meals/wprvrw1511641295.jpg',\n",
       "   'idMeal': '52892'},\n",
       "  {'strMeal': 'Turkey Meatloaf',\n",
       "   'strMealThumb': 'https://www.themealdb.com/images/media/meals/ypuxtw1511297463.jpg',\n",
       "   'idMeal': '52845'},\n",
       "  {'strMeal': 'Vegetarian Casserole',\n",
       "   'strMealThumb': 'https://www.themealdb.com/images/media/meals/vptwyt1511450962.jpg',\n",
       "   'idMeal': '52863'},\n",
       "  {'strMeal': 'Vegetarian Chilli',\n",
       "   'strMealThumb': 'https://www.themealdb.com/images/media/meals/wqurxy1511453156.jpg',\n",
       "   'idMeal': '52867'}]}"
      ]
     },
     "execution_count": 194,
     "metadata": {},
     "output_type": "execute_result"
    }
   ],
   "source": [
    "#creatung a query for cuisine to return all meals listed in lists sorted by Area\n",
    "cuisine = \"British\"\n",
    "cuisine_request = urllib.request.Request(f\"https://www.themealdb.com/api/json/v1/1/filter.php?a={cuisine}\")\n",
    "cuisine_response = urllib.request.urlopen(cuisine_request)\n",
    "cuisine_meal = json.loads(cuisine_response.read())\n",
    "cuisine_meal"
   ]
  },
  {
   "cell_type": "code",
   "execution_count": 191,
   "id": "1c8436ff-e1d5-446d-9406-b2c5ade023d6",
   "metadata": {
    "scrolled": true
   },
   "outputs": [
    {
     "data": {
      "text/plain": [
       "{'meals': [{'strMeal': 'Beef and Mustard Pie',\n",
       "   'strMealThumb': 'https://www.themealdb.com/images/media/meals/sytuqu1511553755.jpg',\n",
       "   'idMeal': '52874'},\n",
       "  {'strMeal': 'Beef and Oyster pie',\n",
       "   'strMealThumb': 'https://www.themealdb.com/images/media/meals/wrssvt1511556563.jpg',\n",
       "   'idMeal': '52878'},\n",
       "  {'strMeal': 'Beef Asado',\n",
       "   'strMealThumb': 'https://www.themealdb.com/images/media/meals/pkopc31683207947.jpg',\n",
       "   'idMeal': '53071'},\n",
       "  {'strMeal': 'Beef Caldereta',\n",
       "   'strMealThumb': 'https://www.themealdb.com/images/media/meals/41cxjh1683207682.jpg',\n",
       "   'idMeal': '53070'},\n",
       "  {'strMeal': 'Beef Dumpling Stew',\n",
       "   'strMealThumb': 'https://www.themealdb.com/images/media/meals/uyqrrv1511553350.jpg',\n",
       "   'idMeal': '52873'},\n",
       "  {'strMeal': 'Beef Lo Mein',\n",
       "   'strMealThumb': 'https://www.themealdb.com/images/media/meals/1529444830.jpg',\n",
       "   'idMeal': '52952'},\n",
       "  {'strMeal': 'Beef Mechado',\n",
       "   'strMealThumb': 'https://www.themealdb.com/images/media/meals/cgl60b1683206581.jpg',\n",
       "   'idMeal': '53068'},\n",
       "  {'strMeal': 'Beef Rendang',\n",
       "   'strMealThumb': 'https://www.themealdb.com/images/media/meals/bc8v651619789840.jpg',\n",
       "   'idMeal': '53053'},\n",
       "  {'strMeal': 'Beef Sunday Roast',\n",
       "   'strMealThumb': 'https://www.themealdb.com/images/media/meals/ssrrrs1503664277.jpg',\n",
       "   'idMeal': '52824'},\n",
       "  {'strMeal': 'Bistek',\n",
       "   'strMealThumb': 'https://www.themealdb.com/images/media/meals/4pqimk1683207418.jpg',\n",
       "   'idMeal': '53069'},\n",
       "  {'strMeal': 'Bitterballen (Dutch meatballs)',\n",
       "   'strMealThumb': 'https://www.themealdb.com/images/media/meals/lhqev81565090111.jpg',\n",
       "   'idMeal': '52979'},\n",
       "  {'strMeal': 'Braised Beef Chilli',\n",
       "   'strMealThumb': 'https://www.themealdb.com/images/media/meals/uuqvwu1504629254.jpg',\n",
       "   'idMeal': '52826'},\n",
       "  {'strMeal': 'Egyptian Fatteh',\n",
       "   'strMealThumb': 'https://www.themealdb.com/images/media/meals/rlwcc51598734603.jpg',\n",
       "   'idMeal': '53031'},\n",
       "  {'strMeal': 'Massaman Beef curry',\n",
       "   'strMealThumb': 'https://www.themealdb.com/images/media/meals/tvttqv1504640475.jpg',\n",
       "   'idMeal': '52827'},\n",
       "  {'strMeal': 'Moussaka',\n",
       "   'strMealThumb': 'https://www.themealdb.com/images/media/meals/ctg8jd1585563097.jpg',\n",
       "   'idMeal': '53006'},\n",
       "  {'strMeal': 'Mulukhiyah',\n",
       "   'strMealThumb': 'https://www.themealdb.com/images/media/meals/x372ug1598733932.jpg',\n",
       "   'idMeal': '53029'},\n",
       "  {'strMeal': 'Red Peas Soup',\n",
       "   'strMealThumb': 'https://www.themealdb.com/images/media/meals/sqpqtp1515365614.jpg',\n",
       "   'idMeal': '52941'},\n",
       "  {'strMeal': 'Steak and Kidney Pie',\n",
       "   'strMealThumb': 'https://www.themealdb.com/images/media/meals/qysyss1511558054.jpg',\n",
       "   'idMeal': '52881'},\n",
       "  {'strMeal': 'Szechuan Beef',\n",
       "   'strMealThumb': 'https://www.themealdb.com/images/media/meals/1529443236.jpg',\n",
       "   'idMeal': '52950'},\n",
       "  {'strMeal': 'Traditional Croatian Goulash',\n",
       "   'strMealThumb': 'https://www.themealdb.com/images/media/meals/n1hcou1628770088.jpg',\n",
       "   'idMeal': '53057'}]}"
      ]
     },
     "execution_count": 191,
     "metadata": {},
     "output_type": "execute_result"
    }
   ],
   "source": [
    "pref = \"Beef\"\n",
    "pref_request = urllib.request.Request(f\"https://www.themealdb.com/api/json/v1/1/filter.php?i={pref}\")\n",
    "pref_response = urllib.request.urlopen(pref_request)\n",
    "pref_meal = json.loads(pref_response.read())\n",
    "pref_meal"
   ]
  },
  {
   "cell_type": "code",
   "execution_count": 204,
   "id": "6a3abff5-0a6b-40c3-872c-fae1d47943d1",
   "metadata": {},
   "outputs": [
    {
     "name": "stdout",
     "output_type": "stream",
     "text": [
      "52874\n"
     ]
    }
   ],
   "source": [
    "for idMeal in pref_meal:\n",
    "    print(pref_meal['meals'][0]['idMeal'])"
   ]
  },
  {
   "cell_type": "code",
   "execution_count": 151,
   "id": "f4333dfa-5b62-4240-b977-37fa800eefd7",
   "metadata": {},
   "outputs": [],
   "source": [
    "meal_category = meal['meals'][0]['strCategory']"
   ]
  },
  {
   "cell_type": "code",
   "execution_count": 152,
   "id": "7273a4aa-a54a-499c-b6ef-3eefcf463e6c",
   "metadata": {},
   "outputs": [
    {
     "data": {
      "text/plain": [
       "'Italian'"
      ]
     },
     "execution_count": 152,
     "metadata": {},
     "output_type": "execute_result"
    }
   ],
   "source": [
    "meal_cuisine = meal['meals'][0]['strArea']\n",
    "meal_cuisine"
   ]
  },
  {
   "cell_type": "code",
   "execution_count": 138,
   "id": "c7e97f58-3386-4ade-9a5f-57dcbad1dd8d",
   "metadata": {},
   "outputs": [
    {
     "name": "stdout",
     "output_type": "stream",
     "text": [
      "Pasta,Italian\n"
     ]
    }
   ],
   "source": [
    "print(meal_category + \",\" + meal_cuisine)"
   ]
  },
  {
   "cell_type": "code",
   "execution_count": 139,
   "id": "9dc4f815-927e-41f4-b77a-dbda59920505",
   "metadata": {},
   "outputs": [],
   "source": [
    "meals = meal['meals'][0]['strCategory'] + \", \" + meal['meals'][0]['strArea']"
   ]
  },
  {
   "cell_type": "code",
   "execution_count": 140,
   "id": "47f31d0d-1ae1-4e9b-acc4-793bb9011e86",
   "metadata": {},
   "outputs": [
    {
     "data": {
      "text/plain": [
       "'Pasta, Italian'"
      ]
     },
     "execution_count": 140,
     "metadata": {},
     "output_type": "execute_result"
    }
   ],
   "source": [
    "meals"
   ]
  },
  {
   "cell_type": "code",
   "execution_count": 141,
   "id": "1ae1a457-0cf9-44ea-9822-a90c772156c9",
   "metadata": {},
   "outputs": [],
   "source": [
    "artist = \"\"\n",
    "if meal_category == \"Vegan\" or meal_category == \"Vegetarian\":\n",
    "    artist = \"G\"\n",
    "elif meal_category == \"Beef\":\n",
    "    artist = \"B\"\n",
    "elif meal_category == \"Chicken\":\n",
    "    artist = \"C\"\n",
    "elif meal_category == \"Lamb\":\n",
    "    artist = \"L\"\n",
    "elif meal_category == \"Pork\":\n",
    "    artist = \"P\"\n",
    "elif meal_category == \"Seafood\":\n",
    "    artist = \"S\"\n",
    "elif meal_category == \"Goat\":\n",
    "    artist = \"G\"\n",
    "else:\n",
    "    artist = \"A\"\n",
    "    "
   ]
  },
  {
   "cell_type": "code",
   "execution_count": 142,
   "id": "18b8bc77-d4ce-438b-8a0e-5ec7ba5045f0",
   "metadata": {},
   "outputs": [
    {
     "ename": "NameError",
     "evalue": "name 'strArea' is not defined",
     "output_type": "error",
     "traceback": [
      "\u001b[1;31m---------------------------------------------------------------------------\u001b[0m",
      "\u001b[1;31mNameError\u001b[0m                                 Traceback (most recent call last)",
      "Cell \u001b[1;32mIn[142], line 1\u001b[0m\n\u001b[1;32m----> 1\u001b[0m meals\u001b[38;5;241m/\u001b[39m\u001b[43mstrArea\u001b[49m\n\u001b[0;32m      2\u001b[0m American\n\u001b[0;32m      3\u001b[0m British\n",
      "\u001b[1;31mNameError\u001b[0m: name 'strArea' is not defined"
     ]
    }
   ],
   "source": [
    "meals/strArea\n",
    "American\n",
    "British\n",
    "Canadian\n",
    "Chinese\n",
    "Croatian\n",
    "Dutch\n",
    "Egyptian\n",
    "Filipino\n",
    "French\n",
    "Greek\n",
    "Indian\n",
    "Irish\n",
    "Italian\n",
    "Jamaican\n",
    "Japanese\n",
    "Kenyan\n",
    "Malaysian\n",
    "Mexican\n",
    "Moroccan\n",
    "Polish\n",
    "Portuguese\n",
    "Russian\n",
    "Spanish\n",
    "Thai\n",
    "Tunisian\n",
    "Turkish\n",
    "Unknown\n",
    "Vietnamese\n"
   ]
  },
  {
   "cell_type": "code",
   "execution_count": null,
   "id": "40d6575b-c19f-42aa-92e7-19d4a801baf6",
   "metadata": {},
   "outputs": [],
   "source": []
  }
 ],
 "metadata": {
  "kernelspec": {
   "display_name": "Python 3 (ipykernel)",
   "language": "python",
   "name": "python3"
  },
  "language_info": {
   "codemirror_mode": {
    "name": "ipython",
    "version": 3
   },
   "file_extension": ".py",
   "mimetype": "text/x-python",
   "name": "python",
   "nbconvert_exporter": "python",
   "pygments_lexer": "ipython3",
   "version": "3.12.0"
  }
 },
 "nbformat": 4,
 "nbformat_minor": 5
}
