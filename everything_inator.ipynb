{
 "cells": [
  {
   "cell_type": "code",
   "execution_count": 544,
   "metadata": {},
   "outputs": [],
   "source": [
    "#Imports\n",
    "import spotipy, json, webbrowser, urllib.request\n",
    "import pandas as pd\n",
    "import spotipy.util as util\n",
    "import random\n",
    "from PIL import Image\n",
    "from reportlab.pdfgen import canvas\n",
    "from reportlab.lib.pagesizes import A4\n",
    "from reportlab.lib.utils import ImageReader\n",
    "from reportlab.platypus import Paragraph\n",
    "from reportlab.lib.styles import getSampleStyleSheet\n",
    "from reportlab.platypus import SimpleDocTemplate\n",
    "\n",
    "\n"
   ]
  },
  {
   "cell_type": "code",
   "execution_count": 545,
   "metadata": {},
   "outputs": [],
   "source": [
    "#User Input Cell 1\n",
    "kseniia_lucky_number = 5\n",
    "omotara_lucky_number = 3\n",
    "\n",
    "#Manual input, comment the below lines out when ready\n",
    "user_input = [[\"Dynamic\", \"Spicy\"],  [\"Beef\"], [\"Thai\", \"Indian\", \"Korean\"], [28, 11, 23]]\n",
    "date_vibe = user_input[0]\n",
    "dietary_req = user_input[1]\n",
    "pref_cuisines = user_input[2]\n",
    "date_day = user_input[3][0]\n",
    "date_month = user_input[3][1]\n",
    "date_year = user_input[3][2]\n",
    "\n",
    "#Dynamic input, uncomment the below lines later\n",
    "# true_date_vibe = input(\"Tell me about your date... \\n What vibe do you want? \\n Describe it in a list (e.g. ['Dynamic', 'Spicy'])\")\n",
    "# true_dietary_req = input(\"And what are your dietary requirements? \\n Give them in a list (e.g. ['Beef'])\\n\")\n",
    "# true_pref_cuisines = input(\"What are your preferred cuisines? \\n Write them as a list (e.g. ['Italian', 'Korean'])\\n\")\n",
    "# true_date = input(\"And finally when is the date? \\n Format it like this [dd, mm, yy] (e.g. [28, 11, 23])\\n\")\n",
    "# date_day = true_date[0]\n",
    "# date_month = true_date[1]\n",
    "# date_year = true_date[2]"
   ]
  },
  {
   "cell_type": "code",
   "execution_count": 546,
   "metadata": {},
   "outputs": [
    {
     "name": "stdout",
     "output_type": "stream",
     "text": [
      "['d', 'y', 'n', 'a', 'm', 'i', 'c', 's', 'p', 'i', 'c', 'y']\n"
     ]
    }
   ],
   "source": [
    "#Cocktail Cell 1\n",
    "letters = []\n",
    "\n",
    "for word in date_vibe:\n",
    "    for char in word:\n",
    "        letters.append(char.lower())\n",
    "\n",
    "print(letters)"
   ]
  },
  {
   "cell_type": "code",
   "execution_count": 547,
   "metadata": {},
   "outputs": [
    {
     "name": "stdout",
     "output_type": "stream",
     "text": [
      "[['Derby', 'Pour all ingredients into a mixing glass with ice. Stir. Strain into a cocktail glass. Garnish with a sprig of fresh mint in the drink.', 'gin, peach bitters, mint', 'https://www.thecocktaildb.com/images/media/drink/52weey1606772672.jpg'], ['Yellow Bird', 'Shake and strain into a chilled cocktail glass', 'white rum, galliano, triple sec, lime juice', 'https://www.thecocktaildb.com/images/media/drink/2t9r6w1504374811.jpg'], ['Negroni', 'Stir into glass over ice, garnish and serve.', 'gin, campari, sweet vermouth', 'https://www.thecocktaildb.com/images/media/drink/qgdu971561574065.jpg'], ['A1', 'Pour all ingredients into a cocktail shaker, mix and serve over ice into a chilled glass.', 'gin, grand marnier, lemon juice, grenadine', 'https://www.thecocktaildb.com/images/media/drink/2x8thr1504816928.jpg'], ['Melya', 'Brew espresso. In a coffee mug, place 1 teaspoon of unsweetened powdered cocoa, then cover a teaspoon with honey and drizzle it into the cup. Stir while the coffee brews, this is the fun part. The cocoa seems to coat the honey without mixing, so you get a dusty, sticky mass that looks as though it will never mix. Then all at once, presto! It looks like dark chocolate sauce. Pour hot espresso over the honey, stirring to dissolve. Serve with cream.', 'espresso, honey, cocoa powder', 'https://www.thecocktaildb.com/images/media/drink/xwtptq1441247579.jpg'], ['Ipamena', 'Cut half a lime into pieces, place in a shaker, add the sugar and crush. Measure the passion fruit juice, add it to the shaker and fill up with ice cubes. Close the shaker and shake vigorously. Pour the liquid into a glass, top up with ginger ale, stir with a teaspoon and then garnish the rim of the glass with a slice of lime', 'lime, brown sugar, passion fruit juice, ginger ale, ice', 'https://www.thecocktaildb.com/images/media/drink/yswuwp1469090992.jpg'], ['Casino', 'Pour all ingredients into shaker with ice cubes. Shake well. Strain into chilled cocktail glass. Garnish with a lemon twist and a maraschino cherry. Serve without a straw.', 'gin, maraschino liqueur, lemon juice, orange bitters, cherry', 'https://www.thecocktaildb.com/images/media/drink/1mvjxg1504348579.jpg'], ['Smut', 'Throw it all together and serve real cold.', 'red wine, peach schnapps, pepsi cola, orange juice', 'https://www.thecocktaildb.com/images/media/drink/rx8k8e1504365812.jpg'], ['Paloma', 'Stir together and serve over ice.', 'grape soda, tequila', 'https://www.thecocktaildb.com/images/media/drink/samm5j1513706393.jpg'], ['Ipamena', 'Cut half a lime into pieces, place in a shaker, add the sugar and crush. Measure the passion fruit juice, add it to the shaker and fill up with ice cubes. Close the shaker and shake vigorously. Pour the liquid into a glass, top up with ginger ale, stir with a teaspoon and then garnish the rim of the glass with a slice of lime', 'lime, brown sugar, passion fruit juice, ginger ale, ice', 'https://www.thecocktaildb.com/images/media/drink/yswuwp1469090992.jpg'], ['Casino', 'Pour all ingredients into shaker with ice cubes. Shake well. Strain into chilled cocktail glass. Garnish with a lemon twist and a maraschino cherry. Serve without a straw.', 'gin, maraschino liqueur, lemon juice, orange bitters, cherry', 'https://www.thecocktaildb.com/images/media/drink/1mvjxg1504348579.jpg'], ['Yellow Bird', 'Shake and strain into a chilled cocktail glass', 'white rum, galliano, triple sec, lime juice', 'https://www.thecocktaildb.com/images/media/drink/2t9r6w1504374811.jpg']]\n"
     ]
    }
   ],
   "source": [
    "#Cocktail Cell 2\n",
    "cocktail_suggestions = []\n",
    "for letter in letters:\n",
    "    number = kseniia_lucky_number\n",
    "    query_str = f\"http://www.thecocktaildb.com/api/json/v1/1/search.php?f={letter}\"\n",
    "    request = urllib.request.Request(query_str)\n",
    "    response = urllib.request.urlopen(request)\n",
    "    all_cocktails = json.loads(response.read())\n",
    "    if len(all_cocktails['drinks']) < (number-1):\n",
    "        number = len(all_cocktails['drinks'])\n",
    "    cocktail = all_cocktails['drinks']\n",
    "    if cocktail[0]['strDrink'] not in cocktail_suggestions:\n",
    "        cocktail_name = cocktail[0]['strDrink']\n",
    "        cocktail_instructions = cocktail[0]['strInstructions']\n",
    "        cocktail_ingred = cocktail[0]['strIngredient1'].lower()\n",
    "        cocktail_img = cocktail[0]['strDrinkThumb']\n",
    "        num = 2\n",
    "        while cocktail[0][f'strIngredient{num}'] != None:\n",
    "            cocktail_ingred = cocktail_ingred + \", \" + cocktail[0][f'strIngredient{num}'].lower()\n",
    "            num += 1\n",
    "        cocktail_suggestions.append([cocktail_name, cocktail_instructions, cocktail_ingred, cocktail_img])\n",
    "print(cocktail_suggestions)"
   ]
  },
  {
   "cell_type": "code",
   "execution_count": 548,
   "metadata": {},
   "outputs": [
    {
     "name": "stdout",
     "output_type": "stream",
     "text": [
      "Your cocktail for the evening is a\u001b[1m Casino\n",
      "\u001b[0m Here's the recipe \n",
      " Ingredients: gin, maraschino liqueur, lemon juice, orange bitters, cherry\n",
      " Steps: Pour all ingredients into shaker with ice cubes. Shake well. Strain into chilled cocktail glass. Garnish with a lemon twist and a maraschino cherry. Serve without a straw.\n"
     ]
    }
   ],
   "source": [
    "#Cocktail Cell 3\n",
    "number = omotara_lucky_number\n",
    "random.shuffle(cocktail_suggestions)\n",
    "if len(cocktail_suggestions) < number:\n",
    "    number = len(cocktail_suggestions)\n",
    "your_cocktail = cocktail_suggestions[number][0]\n",
    "your_recipe = cocktail_suggestions[number][1]\n",
    "your_ingredients = cocktail_suggestions[number][2]\n",
    "your_cocktail_img = cocktail_suggestions[number][3]\n",
    "\n",
    "a_or_an = \"a\"\n",
    "vowels = [\"a\", \"e\", \"i\", \"o\", \"u\"]\n",
    "if your_cocktail[0].lower() in vowels:\n",
    "    a_or_an = \"an\"\n",
    "    \n",
    "print(f\"Your cocktail for the evening is {a_or_an}\\033[1m {your_cocktail}\\n\\033[0m Here's the recipe \\n Ingredients: {your_ingredients}\\n Steps: {your_recipe}\")"
   ]
  },
  {
   "cell_type": "code",
   "execution_count": 580,
   "metadata": {},
   "outputs": [
    {
     "name": "stdout",
     "output_type": "stream",
     "text": [
      "There were no meals for the Korean cuisine\n",
      "['Massaman Beef curry', 'Beef', 'Thai', 'Heat oven to 200C/180C fan/gas 6, then roast the peanuts on a baking tray for 5 mins until golden brown. When cool enough to handle, roughly chop. Reduce oven to 180C/160C fan/gas 4.\\r\\nHeat 2 tbsp coconut cream in a large casserole dish with a lid. Add the curry paste and fry for 1 min, then stir in the beef and fry until well coated and sealed. Stir in the rest of the coconut with half a can of water, the potatoes, onion, lime leaves, cinnamon, tamarind, sugar, fish sauce and most of the peanuts. Bring to a simmer, then cover and cook for 2 hrs in the oven until the beef is tender.\\r\\nSprinkle with sliced chilli and the remaining peanuts, then serve straight from the dish with jasmine rice.', 'https://www.themealdb.com/images/media/meals/tvttqv1504640475.jpg', 'peanuts, coconut cream, massaman curry paste, beef, potatoes, onion, lime, cinnamon stick, tamarind paste, brown sugar, fish sauce, chilli, jasmine rice']\n",
      "6\n"
     ]
    }
   ],
   "source": [
    "#Meal Cell 1\n",
    "\n",
    "cuisine_suggestions = []\n",
    "valid_recipes = []\n",
    "\n",
    "for user_cuisine in pref_cuisines:\n",
    "    query_str = f\"https://www.themealdb.com/api/json/v1/1/filter.php?a={user_cuisine}\"\n",
    "    request = urllib.request.Request(query_str)\n",
    "    response = urllib.request.urlopen(request)\n",
    "    all_responses_for_cuisine = json.loads(response.read())\n",
    "    all_meals_for_cuisine = all_responses_for_cuisine['meals']\n",
    "    if all_meals_for_cuisine != None:\n",
    "        for dish in all_meals_for_cuisine:\n",
    "            dish_id = dish['idMeal']\n",
    "            query_str = f\"https://www.themealdb.com/api/json/v1/1/lookup.php?i={dish_id}\"\n",
    "            request = urllib.request.Request(query_str)\n",
    "            response = urllib.request.urlopen(request)\n",
    "            all_dish_responses = json.loads(response.read())\n",
    "            dish_info = all_dish_responses['meals']\n",
    "            \n",
    "            for req in dietary_req:\n",
    "                if dish_info[0]['strCategory'] == req:\n",
    "                    meal = dish_info[0]['strMeal']\n",
    "                    category = dish_info[0]['strCategory']\n",
    "                    area = dish_info[0]['strArea']\n",
    "                    instruct = dish_info[0]['strInstructions']\n",
    "                    image = dish_info[0]['strMealThumb']\n",
    "                    meal_ingred = dish_info[0]['strIngredient1'].lower()\n",
    "                    num = 2\n",
    "                    while dish_info[0][f'strIngredient{num}'] != None:\n",
    "                        meal_ingred = meal_ingred + \", \" + dish_info[0][f'strIngredient{num}'].lower()\n",
    "                        num += 1\n",
    "                    ls = [meal, category, area, instruct, image, meal_ingred]\n",
    "                    valid_recipes.append(ls)\n",
    "    else:\n",
    "        print(f\"There were no meals for the {user_cuisine} cuisine\")\n",
    "                    \n",
    "if len(valid_recipes) == 0:\n",
    "    print(\"No recipes found for any of your preferred cuisines :( Please try another!\")\n",
    "else: \n",
    "    your_meal = random.choice(valid_recipes)\n",
    "    print(your_meal)\n",
    "    print(len(your_meal))"
   ]
  },
  {
   "cell_type": "code",
   "execution_count": 581,
   "metadata": {},
   "outputs": [
    {
     "name": "stdout",
     "output_type": "stream",
     "text": [
      "['Massaman Beef curry', 'Beef', 'Thai', 'Heat oven to 200C/180C fan/gas 6, then roast the peanuts on a baking tray for 5 mins until golden brown. When cool enough to handle, roughly chop. Reduce oven to 180C/160C fan/gas 4.\\r\\nHeat 2 tbsp coconut cream in a large casserole dish with a lid. Add the curry paste and fry for 1 min, then stir in the beef and fry until well coated and sealed. Stir in the rest of the coconut with half a can of water, the potatoes, onion, lime leaves, cinnamon, tamarind, sugar, fish sauce and most of the peanuts. Bring to a simmer, then cover and cook for 2 hrs in the oven until the beef is tender.\\r\\nSprinkle with sliced chilli and the remaining peanuts, then serve straight from the dish with jasmine rice.', 'https://www.themealdb.com/images/media/meals/tvttqv1504640475.jpg', 'peanuts, coconut cream, massaman curry paste, beef, potatoes, onion, lime, cinnamon stick, tamarind paste, brown sugar, fish sauce, chilli, jasmine rice']\n"
     ]
    }
   ],
   "source": [
    "#Meal Cell 2\n",
    "your_meal_name = your_meal[0]\n",
    "your_meal_recipe = your_meal[3]\n",
    "your_meal_img = your_meal[4]\n",
    "your_meal_ingredients = your_meal[5]\n",
    "\n",
    "a_or_an_meal = \"a\"\n",
    "vowels = [\"a\", \"e\", \"i\", \"o\", \"u\"]\n",
    "if your_meal[0].lower() in vowels:\n",
    "    a_or_an_meal = \"an\"\n",
    "\n",
    "print(your_meal)"
   ]
  },
  {
   "cell_type": "code",
   "execution_count": 550,
   "metadata": {},
   "outputs": [],
   "source": [
    "#Playlist"
   ]
  },
  {
   "cell_type": "code",
   "execution_count": 596,
   "metadata": {},
   "outputs": [],
   "source": [
    "#PDF\n",
    "top_line_pos = 750\n",
    "line_width = 20\n",
    "date_details = \"28 Nov\"\n",
    "date_canvas = canvas.Canvas(f\"date_results/{date_details.replace(\" \", \"_\")}_date_night.pdf\", pagesize=A4)\n",
    "date_canvas.drawString(100, top_line_pos, \"MENU\")\n",
    "test = \"aygyuwgefkjhdkjhkskjdewkjhd\"\n",
    "\n",
    "def line_y_position(line_idx):\n",
    "    return top_line_pos-(line_idx*line_width)\n",
    "\n",
    "def line_break_str(your_string):\n",
    "    line = \"\"\n",
    "    full_str = []\n",
    "    line_len = 80\n",
    "    x = line_len\n",
    "    if line_len < len(your_string):\n",
    "        first_space = your_string[(line_len-10):(line_len+10)].index(\" \") + line_len - 10\n",
    "        line = your_string[0:first_space]\n",
    "        full_str.append(line)\n",
    "        x = first_space\n",
    "    else:\n",
    "        line = your_string\n",
    "\n",
    "    while x < len(your_string):\n",
    "        y = x+line_len\n",
    "        if y < len(your_string):\n",
    "            index_nearest_space = your_string[(y-10):(y+10)].index(\" \") + y - 10\n",
    "        else:\n",
    "            index_nearest_space = len(your_string)\n",
    "        line = your_string[x:index_nearest_space]\n",
    "        x = index_nearest_space\n",
    "        full_str.append(line)\n",
    "    \n",
    "    return full_str\n",
    "\n",
    "#Cocktail Section\n",
    "cocktail_img_item = ImageReader(your_cocktail_img)\n",
    "position = 1\n",
    "date_canvas.drawString(100, line_y_position(position), f\"Your cocktail for the evening is {a_or_an} {your_cocktail}\")\n",
    "position += 1\n",
    "date_canvas.drawImage(cocktail_img_item, 100, line_y_position(position + 5), mask='auto', width=100, height=100)\n",
    "position += 7\n",
    "date_canvas.drawString(100, line_y_position(position), f\"Ingredients: {your_ingredients}\")\n",
    "position += 1\n",
    "date_canvas.drawString(100, line_y_position(position), f\"Steps:\")\n",
    "position += 1\n",
    "\n",
    "cocktail_recipe_broken =  line_break_str(your_recipe)\n",
    "for line in cocktail_recipe_broken:\n",
    "    date_canvas.drawString(100, line_y_position(position), f\"{line}\")\n",
    "    position += 1\n",
    "\n",
    "#Meal Section\n",
    "meal_img_item = ImageReader(your_meal_img)\n",
    "position += 2\n",
    "date_canvas.drawString(100, line_y_position(position), f\"Your meal for the evening is {a_or_an_meal} {your_meal_name}\")\n",
    "position += 1\n",
    "date_canvas.drawImage(meal_img_item, 100, line_y_position(position + 5), mask='auto', width=100, height=100)\n",
    "position += 7\n",
    "date_canvas.drawString(100, line_y_position(position), f\"Ingredients:\")\n",
    "position += 1\n",
    "\n",
    "meal_ingredients_broken =  line_break_str(your_meal_ingredients)\n",
    "for line in meal_ingredients_broken:\n",
    "    date_canvas.drawString(100, line_y_position(position), f\"{line}\")\n",
    "    position += 1\n",
    "\n",
    "date_canvas.drawString(100, line_y_position(position), f\"Steps:\")\n",
    "position += 1\n",
    "\n",
    "meal_recipe_broken =  line_break_str(your_meal_recipe)\n",
    "for line in meal_recipe_broken:\n",
    "    date_canvas.drawString(100, line_y_position(position), f\"{line}\")\n",
    "    position += 1\n",
    "\n",
    "#QR Section\n",
    "\n",
    "#Run\n",
    "date_canvas.showPage()\n",
    "\n",
    "date_canvas.drawString(100, line_y_position(1), f\"Ingredients:\")\n",
    "position += 1\n",
    "date_canvas.showPage()\n",
    "date_canvas.save()"
   ]
  },
  {
   "cell_type": "code",
   "execution_count": null,
   "metadata": {},
   "outputs": [],
   "source": []
  }
 ],
 "metadata": {
  "kernelspec": {
   "display_name": ".venv",
   "language": "python",
   "name": "python3"
  },
  "language_info": {
   "codemirror_mode": {
    "name": "ipython",
    "version": 3
   },
   "file_extension": ".py",
   "mimetype": "text/x-python",
   "name": "python",
   "nbconvert_exporter": "python",
   "pygments_lexer": "ipython3",
   "version": "3.12.0"
  }
 },
 "nbformat": 4,
 "nbformat_minor": 2
}
