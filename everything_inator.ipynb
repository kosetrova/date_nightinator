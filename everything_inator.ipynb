{
 "cells": [
  {
   "cell_type": "code",
   "execution_count": 25,
   "metadata": {},
   "outputs": [],
   "source": [
    "#Imports\n",
    "import spotipy, json, webbrowser, urllib.request\n",
    "import pandas as pd\n",
    "import spotipy.util as util\n",
    "import random\n",
    "from reportlab.pdfgen import canvas\n",
    "from reportlab.lib.pagesizes import A4"
   ]
  },
  {
   "cell_type": "code",
   "execution_count": 26,
   "metadata": {},
   "outputs": [],
   "source": [
    "#Cocktail Cell 1\n",
    "kseniia_lucky_number = 5\n",
    "omotara_lucky_number = 3\n",
    "\n",
    "#Manual input, comment the below lines out when ready\n",
    "user_input = [[\"Dynamic\", \"Spicy\"],  [\"Beef\"], [\"Thai\", \"Indian\", \"Korean\"], [28, 11, 23]]\n",
    "date_vibe = user_input[0]\n",
    "dietary_req = user_input[1]\n",
    "pref_cuisines = user_input[2]\n",
    "date_day = user_input[3][0]\n",
    "date_month = user_input[3][1]\n",
    "date_year = user_input[3][2]\n",
    "\n",
    "#Dynamic input, uncomment the below lines later\n",
    "# true_date_vibe = input(\"Tell me about your date... \\n What vibe do you want? \\n Describe it in a list (e.g. ['Dynamic', 'Spicy'])\")\n",
    "# true_dietary_req = input(\"And what are your dietary requirements? \\n Give them in a list (e.g. ['Beef'])\\n\")\n",
    "# true_pref_cuisines = input(\"What are your preferred cuisines? \\n Write them as a list (e.g. ['Italian', 'Korean'])\\n\")\n",
    "# true_date = input(\"And finally when is the date? \\n Format it like this [dd, mm, yy] (e.g. [28, 11, 23])\\n\")\n",
    "# date_day = true_date[0]\n",
    "# date_month = true_date[1]\n",
    "# date_year = true_date[2]"
   ]
  },
  {
   "cell_type": "code",
   "execution_count": 27,
   "metadata": {},
   "outputs": [
    {
     "name": "stdout",
     "output_type": "stream",
     "text": [
      "['d', 'y', 'n', 'a', 'm', 'i', 'c', 's', 'p', 'i', 'c', 'y']\n"
     ]
    }
   ],
   "source": [
    "#Cocktail Cell 2\n",
    "letters = []\n",
    "\n",
    "for word in date_vibe:\n",
    "    for char in word:\n",
    "        letters.append(char.lower())\n",
    "\n",
    "print(letters)"
   ]
  },
  {
   "cell_type": "code",
   "execution_count": 28,
   "metadata": {},
   "outputs": [
    {
     "name": "stdout",
     "output_type": "stream",
     "text": [
      "[['Derby', 'Pour all ingredients into a mixing glass with ice. Stir. Strain into a cocktail glass. Garnish with a sprig of fresh mint in the drink.', 'gin, peach bitters, mint'], ['Yellow Bird', 'Shake and strain into a chilled cocktail glass', 'white rum, galliano, triple sec, lime juice'], ['Negroni', 'Stir into glass over ice, garnish and serve.', 'gin, campari, sweet vermouth'], ['A1', 'Pour all ingredients into a cocktail shaker, mix and serve over ice into a chilled glass.', 'gin, grand marnier, lemon juice, grenadine'], ['Melya', 'Brew espresso. In a coffee mug, place 1 teaspoon of unsweetened powdered cocoa, then cover a teaspoon with honey and drizzle it into the cup. Stir while the coffee brews, this is the fun part. The cocoa seems to coat the honey without mixing, so you get a dusty, sticky mass that looks as though it will never mix. Then all at once, presto! It looks like dark chocolate sauce. Pour hot espresso over the honey, stirring to dissolve. Serve with cream.', 'espresso, honey, cocoa powder'], ['Ipamena', 'Cut half a lime into pieces, place in a shaker, add the sugar and crush. Measure the passion fruit juice, add it to the shaker and fill up with ice cubes. Close the shaker and shake vigorously. Pour the liquid into a glass, top up with ginger ale, stir with a teaspoon and then garnish the rim of the glass with a slice of lime', 'lime, brown sugar, passion fruit juice, ginger ale, ice'], ['Casino', 'Pour all ingredients into shaker with ice cubes. Shake well. Strain into chilled cocktail glass. Garnish with a lemon twist and a maraschino cherry. Serve without a straw.', 'gin, maraschino liqueur, lemon juice, orange bitters, cherry'], ['Smut', 'Throw it all together and serve real cold.', 'red wine, peach schnapps, pepsi cola, orange juice'], ['Paloma', 'Stir together and serve over ice.', 'grape soda, tequila'], ['Ipamena', 'Cut half a lime into pieces, place in a shaker, add the sugar and crush. Measure the passion fruit juice, add it to the shaker and fill up with ice cubes. Close the shaker and shake vigorously. Pour the liquid into a glass, top up with ginger ale, stir with a teaspoon and then garnish the rim of the glass with a slice of lime', 'lime, brown sugar, passion fruit juice, ginger ale, ice'], ['Casino', 'Pour all ingredients into shaker with ice cubes. Shake well. Strain into chilled cocktail glass. Garnish with a lemon twist and a maraschino cherry. Serve without a straw.', 'gin, maraschino liqueur, lemon juice, orange bitters, cherry'], ['Yellow Bird', 'Shake and strain into a chilled cocktail glass', 'white rum, galliano, triple sec, lime juice']]\n"
     ]
    }
   ],
   "source": [
    "#Cocktail Cell 3\n",
    "cocktail_suggestions = []\n",
    "for letter in letters:\n",
    "    number = kseniia_lucky_number\n",
    "    query_str = f\"http://www.thecocktaildb.com/api/json/v1/1/search.php?f={letter}\"\n",
    "    request = urllib.request.Request(query_str)\n",
    "    response = urllib.request.urlopen(request)\n",
    "    all_cocktails = json.loads(response.read())\n",
    "    if len(all_cocktails['drinks']) < (number-1):\n",
    "        number = len(all_cocktails['drinks'])\n",
    "    cocktail = all_cocktails['drinks']\n",
    "    if cocktail[0]['strDrink'] not in cocktail_suggestions:\n",
    "        cocktail_name = cocktail[0]['strDrink']\n",
    "        cocktail_instructions = cocktail[0]['strInstructions']\n",
    "        cocktail_ingred = cocktail[0]['strIngredient1'].lower()\n",
    "        num = 2\n",
    "        while cocktail[0][f'strIngredient{num}'] != None:\n",
    "            cocktail_ingred = cocktail_ingred + \", \" + cocktail[0][f'strIngredient{num}'].lower()\n",
    "            num += 1\n",
    "        cocktail_suggestions.append([cocktail_name, cocktail_instructions, cocktail_ingred])\n",
    "print(cocktail_suggestions)"
   ]
  },
  {
   "cell_type": "code",
   "execution_count": 29,
   "metadata": {},
   "outputs": [
    {
     "name": "stdout",
     "output_type": "stream",
     "text": [
      "Your cocktail for the evening is a\u001b[1m Casino\n",
      "\u001b[0m Here's the recipe \n",
      " Ingredients: gin, maraschino liqueur, lemon juice, orange bitters, cherry\n",
      " Steps: Pour all ingredients into shaker with ice cubes. Shake well. Strain into chilled cocktail glass. Garnish with a lemon twist and a maraschino cherry. Serve without a straw.\n"
     ]
    }
   ],
   "source": [
    "#Cocktail Cell 4\n",
    "number = omotara_lucky_number\n",
    "random.shuffle(cocktail_suggestions)\n",
    "if len(cocktail_suggestions) < number:\n",
    "    number = len(cocktail_suggestions)\n",
    "your_cocktail = cocktail_suggestions[number][0]\n",
    "your_recipe = cocktail_suggestions[number][1]\n",
    "your_ingredients = cocktail_suggestions[number][2]\n",
    "\n",
    "a_or_an = \"a\"\n",
    "vowels = [\"a\", \"e\", \"i\", \"o\", \"u\"]\n",
    "if your_cocktail[0].lower() in vowels:\n",
    "    a_or_an = \"an\"\n",
    "    \n",
    "print(f\"Your cocktail for the evening is {a_or_an}\\033[1m {your_cocktail}\\n\\033[0m Here's the recipe \\n Ingredients: {your_ingredients}\\n Steps: {your_recipe}\")"
   ]
  },
  {
   "cell_type": "code",
   "execution_count": 30,
   "metadata": {},
   "outputs": [],
   "source": [
    "#Meal"
   ]
  },
  {
   "cell_type": "code",
   "execution_count": 31,
   "metadata": {},
   "outputs": [],
   "source": [
    "#Playlist"
   ]
  },
  {
   "cell_type": "code",
   "execution_count": 40,
   "metadata": {},
   "outputs": [],
   "source": [
    "#PDF\n",
    "top_line_pos = 750\n",
    "line_width = 20\n",
    "date_details = \"28 Nov\"\n",
    "date_canvas = canvas.Canvas(f\"{date_details.replace(\" \", \"_\")}_date_night.pdf\", pagesize=A4)\n",
    "date_canvas.drawString(100, top_line_pos, \"MENU\")\n",
    "\n",
    "#Cocktail Section\n",
    "date_canvas.drawString(100, (top_line_pos-line_width), f\"Your cocktail for the evening is {a_or_an} {your_cocktail}\")\n",
    "date_canvas.drawString(100, (top_line_pos-(2*line_width)), f\"Ingredients: {your_ingredients}\")\n",
    "date_canvas.drawString(100, (top_line_pos-(3*line_width)), f\"Steps: {your_recipe}\")\n",
    "\n",
    "#Meal Section\n",
    "\n",
    "#QR Section\n",
    "date_canvas.save()"
   ]
  },
  {
   "cell_type": "code",
   "execution_count": null,
   "metadata": {},
   "outputs": [],
   "source": []
  }
 ],
 "metadata": {
  "kernelspec": {
   "display_name": ".venv",
   "language": "python",
   "name": "python3"
  },
  "language_info": {
   "codemirror_mode": {
    "name": "ipython",
    "version": 3
   },
   "file_extension": ".py",
   "mimetype": "text/x-python",
   "name": "python",
   "nbconvert_exporter": "python",
   "pygments_lexer": "ipython3",
   "version": "3.12.0"
  }
 },
 "nbformat": 4,
 "nbformat_minor": 2
}
